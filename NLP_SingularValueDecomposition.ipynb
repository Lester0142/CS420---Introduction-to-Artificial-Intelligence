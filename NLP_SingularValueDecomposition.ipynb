{
  "cells": [
    {
      "cell_type": "code",
      "execution_count": 1,
      "metadata": {
        "id": "QjHK80jR15cb",
        "colab": {
          "base_uri": "https://localhost:8080/"
        },
        "outputId": "ef4d5c0c-60cd-45d5-cc9d-d4bc71de8cb4"
      },
      "outputs": [
        {
          "output_type": "stream",
          "name": "stderr",
          "text": [
            "[nltk_data] Downloading package stopwords to /root/nltk_data...\n",
            "[nltk_data]   Unzipping corpora/stopwords.zip.\n",
            "[nltk_data] Downloading package punkt to /root/nltk_data...\n",
            "[nltk_data]   Unzipping tokenizers/punkt.zip.\n"
          ]
        },
        {
          "output_type": "stream",
          "name": "stdout",
          "text": [
            "Mounted at /content/drive\n"
          ]
        }
      ],
      "source": [
        "import nltk\n",
        "nltk.download('stopwords')\n",
        "from nltk.corpus import stopwords\n",
        "nltk.download('punkt')\n",
        "\n",
        "import numpy as np\n",
        "import pandas as pd\n",
        "from gensim.models import word2vec\n",
        "\n",
        "from google.colab import drive\n",
        "drive.mount('/content/drive')\n",
        "\n",
        "import re # For regular expressions"
      ]
    },
    {
      "cell_type": "markdown",
      "metadata": {
        "id": "UTam_xXUv2Z9"
      },
      "source": [
        "## (a) Load the dataset"
      ]
    },
    {
      "cell_type": "code",
      "source": [
        "tweets = pd.read_csv('/content/drive/MyDrive/Colab Notebooks/Corona_Tweets.csv', names=['text'])"
      ],
      "metadata": {
        "id": "jlh6Xgv8sOlY"
      },
      "execution_count": 2,
      "outputs": []
    },
    {
      "cell_type": "code",
      "source": [
        "tweets.head()\n"
      ],
      "metadata": {
        "id": "5Xu1xS4Ht6bv",
        "outputId": "5a5d2043-f7a2-4447-ed26-6fda580c71e7",
        "colab": {
          "base_uri": "https://localhost:8080/",
          "height": 206
        }
      },
      "execution_count": 3,
      "outputs": [
        {
          "output_type": "execute_result",
          "data": {
            "text/plain": [
              "                                                text\n",
              "0  TRENDING: New Yorkers encounter empty supermar...\n",
              "1  When I couldn't find hand sanitizer at Fred Me...\n",
              "2  Find out how you can protect yourself and love...\n",
              "3  #Panic buying hits #NewYork City as anxious sh...\n",
              "4  #toiletpaper #dunnypaper #coronavirus #coronav..."
            ],
            "text/html": [
              "\n",
              "  <div id=\"df-7d78ea4a-69b4-47ff-9605-2f88988f2d75\">\n",
              "    <div class=\"colab-df-container\">\n",
              "      <div>\n",
              "<style scoped>\n",
              "    .dataframe tbody tr th:only-of-type {\n",
              "        vertical-align: middle;\n",
              "    }\n",
              "\n",
              "    .dataframe tbody tr th {\n",
              "        vertical-align: top;\n",
              "    }\n",
              "\n",
              "    .dataframe thead th {\n",
              "        text-align: right;\n",
              "    }\n",
              "</style>\n",
              "<table border=\"1\" class=\"dataframe\">\n",
              "  <thead>\n",
              "    <tr style=\"text-align: right;\">\n",
              "      <th></th>\n",
              "      <th>text</th>\n",
              "    </tr>\n",
              "  </thead>\n",
              "  <tbody>\n",
              "    <tr>\n",
              "      <th>0</th>\n",
              "      <td>TRENDING: New Yorkers encounter empty supermar...</td>\n",
              "    </tr>\n",
              "    <tr>\n",
              "      <th>1</th>\n",
              "      <td>When I couldn't find hand sanitizer at Fred Me...</td>\n",
              "    </tr>\n",
              "    <tr>\n",
              "      <th>2</th>\n",
              "      <td>Find out how you can protect yourself and love...</td>\n",
              "    </tr>\n",
              "    <tr>\n",
              "      <th>3</th>\n",
              "      <td>#Panic buying hits #NewYork City as anxious sh...</td>\n",
              "    </tr>\n",
              "    <tr>\n",
              "      <th>4</th>\n",
              "      <td>#toiletpaper #dunnypaper #coronavirus #coronav...</td>\n",
              "    </tr>\n",
              "  </tbody>\n",
              "</table>\n",
              "</div>\n",
              "      <button class=\"colab-df-convert\" onclick=\"convertToInteractive('df-7d78ea4a-69b4-47ff-9605-2f88988f2d75')\"\n",
              "              title=\"Convert this dataframe to an interactive table.\"\n",
              "              style=\"display:none;\">\n",
              "        \n",
              "  <svg xmlns=\"http://www.w3.org/2000/svg\" height=\"24px\"viewBox=\"0 0 24 24\"\n",
              "       width=\"24px\">\n",
              "    <path d=\"M0 0h24v24H0V0z\" fill=\"none\"/>\n",
              "    <path d=\"M18.56 5.44l.94 2.06.94-2.06 2.06-.94-2.06-.94-.94-2.06-.94 2.06-2.06.94zm-11 1L8.5 8.5l.94-2.06 2.06-.94-2.06-.94L8.5 2.5l-.94 2.06-2.06.94zm10 10l.94 2.06.94-2.06 2.06-.94-2.06-.94-.94-2.06-.94 2.06-2.06.94z\"/><path d=\"M17.41 7.96l-1.37-1.37c-.4-.4-.92-.59-1.43-.59-.52 0-1.04.2-1.43.59L10.3 9.45l-7.72 7.72c-.78.78-.78 2.05 0 2.83L4 21.41c.39.39.9.59 1.41.59.51 0 1.02-.2 1.41-.59l7.78-7.78 2.81-2.81c.8-.78.8-2.07 0-2.86zM5.41 20L4 18.59l7.72-7.72 1.47 1.35L5.41 20z\"/>\n",
              "  </svg>\n",
              "      </button>\n",
              "      \n",
              "  <style>\n",
              "    .colab-df-container {\n",
              "      display:flex;\n",
              "      flex-wrap:wrap;\n",
              "      gap: 12px;\n",
              "    }\n",
              "\n",
              "    .colab-df-convert {\n",
              "      background-color: #E8F0FE;\n",
              "      border: none;\n",
              "      border-radius: 50%;\n",
              "      cursor: pointer;\n",
              "      display: none;\n",
              "      fill: #1967D2;\n",
              "      height: 32px;\n",
              "      padding: 0 0 0 0;\n",
              "      width: 32px;\n",
              "    }\n",
              "\n",
              "    .colab-df-convert:hover {\n",
              "      background-color: #E2EBFA;\n",
              "      box-shadow: 0px 1px 2px rgba(60, 64, 67, 0.3), 0px 1px 3px 1px rgba(60, 64, 67, 0.15);\n",
              "      fill: #174EA6;\n",
              "    }\n",
              "\n",
              "    [theme=dark] .colab-df-convert {\n",
              "      background-color: #3B4455;\n",
              "      fill: #D2E3FC;\n",
              "    }\n",
              "\n",
              "    [theme=dark] .colab-df-convert:hover {\n",
              "      background-color: #434B5C;\n",
              "      box-shadow: 0px 1px 3px 1px rgba(0, 0, 0, 0.15);\n",
              "      filter: drop-shadow(0px 1px 2px rgba(0, 0, 0, 0.3));\n",
              "      fill: #FFFFFF;\n",
              "    }\n",
              "  </style>\n",
              "\n",
              "      <script>\n",
              "        const buttonEl =\n",
              "          document.querySelector('#df-7d78ea4a-69b4-47ff-9605-2f88988f2d75 button.colab-df-convert');\n",
              "        buttonEl.style.display =\n",
              "          google.colab.kernel.accessAllowed ? 'block' : 'none';\n",
              "\n",
              "        async function convertToInteractive(key) {\n",
              "          const element = document.querySelector('#df-7d78ea4a-69b4-47ff-9605-2f88988f2d75');\n",
              "          const dataTable =\n",
              "            await google.colab.kernel.invokeFunction('convertToInteractive',\n",
              "                                                     [key], {});\n",
              "          if (!dataTable) return;\n",
              "\n",
              "          const docLinkHtml = 'Like what you see? Visit the ' +\n",
              "            '<a target=\"_blank\" href=https://colab.research.google.com/notebooks/data_table.ipynb>data table notebook</a>'\n",
              "            + ' to learn more about interactive tables.';\n",
              "          element.innerHTML = '';\n",
              "          dataTable['output_type'] = 'display_data';\n",
              "          await google.colab.output.renderOutput(dataTable, element);\n",
              "          const docLink = document.createElement('div');\n",
              "          docLink.innerHTML = docLinkHtml;\n",
              "          element.appendChild(docLink);\n",
              "        }\n",
              "      </script>\n",
              "    </div>\n",
              "  </div>\n",
              "  "
            ]
          },
          "metadata": {},
          "execution_count": 3
        }
      ]
    },
    {
      "cell_type": "code",
      "source": [
        "def load_data():\n",
        "    \"\"\" Read tweets from the file.\n",
        "        Return:\n",
        "            list of lists (list_words), with words from each of the processed tweets\n",
        "    \"\"\"\n",
        "    tweets = pd.read_csv('/content/drive/MyDrive/Colab Notebooks/Corona_Tweets.csv', names=['text'])\n",
        "    list_words = []\n",
        "    ### iterate over all tweets from the dataset\n",
        "    for i in tweets.index:\n",
        "      ### remove non-letter.\n",
        "      text = re.sub('[^A-Za-z ]', '', (re.sub(r'http\\S+', '', tweets.iloc[i,0])))\n",
        "      ### tokenize\n",
        "      words = text.split(\" \")\n",
        "      \n",
        "      new_words = []\n",
        "      ### iterate over all words of a tweet\n",
        "      for w in words:\n",
        "        #print('before: ',w)\n",
        "        ## TODO: remove the stop words and convert a word (w) to the lower case\n",
        "        w = w.lower()\n",
        "        if w in stopwords.words('english') or w == '':\n",
        "          continue\n",
        "        #print('after: ', w)\n",
        "        new_words.append(w)\n",
        "      list_words.append(new_words)\n",
        "    return list_words\n",
        "\n",
        "# check a few samples of twitter corpus\n",
        "twitter_corpus = load_data()\n",
        "print(twitter_corpus[:5])"
      ],
      "metadata": {
        "id": "xQsTJcH2X-9E",
        "colab": {
          "base_uri": "https://localhost:8080/"
        },
        "outputId": "1def2e29-28fc-4380-e7df-0cbcaa330cdd"
      },
      "execution_count": 4,
      "outputs": [
        {
          "output_type": "stream",
          "name": "stdout",
          "text": [
            "[['trending', 'new', 'yorkers', 'encounter', 'empty', 'supermarket', 'shelves', 'pictured', 'wegmans', 'brooklyn', 'soldout', 'online', 'grocers', 'foodkick', 'maxdelivery', 'coronavirusfearing', 'shoppers', 'stock'], ['couldnt', 'find', 'hand', 'sanitizer', 'fred', 'meyer', 'turned', 'amazon', 'pack', 'purellcheck', 'coronavirus', 'concerns', 'driving', 'prices'], ['find', 'protect', 'loved', 'ones', 'coronavirus'], ['panic', 'buying', 'hits', 'newyork', 'city', 'anxious', 'shoppers', 'stock', 'foodampmedical', 'supplies', 'healthcare', 'worker', 'becomes', 'bigapple', 'st', 'confirmed', 'coronavirus', 'patient', 'bloomberg', 'staged', 'eventqanon', 'qanon', 'qanon', 'election', 'cdc'], ['toiletpaper', 'dunnypaper', 'coronavirus', 'coronavirusaustralia', 'coronavirusupdate', 'covid', 'news', 'corvid', 'newsmelb', 'dunnypapergate', 'costco', 'one', 'week', 'everyone', 'buying', 'baby', 'milk', 'powder', 'next', 'everyone', 'buying', 'toilet', 'paper']]\n"
          ]
        }
      ]
    },
    {
      "cell_type": "markdown",
      "metadata": {
        "id": "e-ZkbmSX15ck"
      },
      "source": [
        "## (b) Create co-occurrence matrix"
      ]
    },
    {
      "cell_type": "code",
      "execution_count": 5,
      "metadata": {
        "id": "X3B83uir15cn",
        "colab": {
          "base_uri": "https://localhost:8080/"
        },
        "outputId": "f0186eaf-a954-42ea-b1dd-bb026a1ae7f8"
      },
      "outputs": [
        {
          "output_type": "stream",
          "name": "stdout",
          "text": [
            "['aadya', 'aamiin', 'aapl', 'abajam', 'abandon', 'abandoning', 'abc', 'abceyewitness', 'abeg', 'abid'] 12984\n"
          ]
        }
      ],
      "source": [
        "def distinct_words(corpus):\n",
        "    \"\"\" get a list of distinct words for the corpus.\n",
        "        Params:\n",
        "            corpus (list of list of strings): corpus of documents\n",
        "        Return:\n",
        "            corpus_words (list of strings): list of distinct words across the corpus, sorted (using python 'sorted' function)\n",
        "            num_corpus_words (integer): number of distinct words across the corpus\n",
        "    \"\"\"\n",
        "    corpus_words = []\n",
        "    num_corpus_words = 0\n",
        "    # ------------------\n",
        "    # TODO:\n",
        "    # ------------------\n",
        "    for sentence in corpus:\n",
        "      for term in sentence:\n",
        "        if term in corpus_words:\n",
        "          continue\n",
        "        else:\n",
        "          corpus_words.append(term)\n",
        "          num_corpus_words += 1\n",
        "    return sorted(corpus_words), num_corpus_words\n",
        "\n",
        "words, num_words = distinct_words(twitter_corpus)\n",
        "print(words[:10], num_words)"
      ]
    },
    {
      "cell_type": "code",
      "execution_count": 6,
      "metadata": {
        "scrolled": true,
        "id": "8WB4cZBR15cp"
      },
      "outputs": [],
      "source": [
        "def compute_co_occurrence_matrix(corpus, window_size=5):\n",
        "    \"\"\" Compute co-occurrence matrix for the given corpus and window_size (default of 5).    \n",
        "        Params:\n",
        "            corpus (list of list of strings): corpus of documents\n",
        "            window_size (int): size of context window\n",
        "        Return:\n",
        "            M (numpy matrix of shape = [number of corpus words x number of corpus words]): \n",
        "                Co-occurence matrix of word counts. \n",
        "                The ordering of the words in the rows/columns should be the same as the ordering of the words given by the distinct_words function.\n",
        "            word2Ind (dict): dictionary that maps word to index (i.e. row/column number) for matrix M.\n",
        "    \"\"\"\n",
        "    M = None\n",
        "    word2Ind = {}\n",
        "    # ------------------\n",
        "    # TODO:\n",
        "    # ------------------\n",
        "    distinctWords, numberOfWords = distinct_words(corpus)\n",
        "    M = np.zeros((numberOfWords, numberOfWords), dtype=int)\n",
        "    word2Ind = {key: value for value, key in enumerate(distinctWords)}\n",
        "\n",
        "    for sentences in corpus:\n",
        "      for t in range(len(sentences)):\n",
        "        for i in range(1, window_size+1):\n",
        "          if (t + i < len(sentences)):\n",
        "            if (sentences[t] == sentences[t+i]):\n",
        "              continue\n",
        "            M[word2Ind.get(sentences[t])][word2Ind.get(sentences[t+i])] = M[word2Ind.get(sentences[t])][word2Ind.get(sentences[t+i])] + 1\n",
        "            M[word2Ind.get(sentences[t+i])][word2Ind.get(sentences[t])] = M[word2Ind.get(sentences[t+i])][word2Ind.get(sentences[t])] + 1\n",
        "            \n",
        "    return M, word2Ind\n",
        "\n",
        "M, word2Ind = compute_co_occurrence_matrix(twitter_corpus)"
      ]
    },
    {
      "cell_type": "markdown",
      "metadata": {
        "id": "11njtWHx15cv"
      },
      "source": [
        "## (c) SVD"
      ]
    },
    {
      "cell_type": "code",
      "execution_count": null,
      "metadata": {
        "id": "LddeVOq615cv"
      },
      "outputs": [],
      "source": [
        "# -----------------------------\n",
        "# Run SVD\n",
        "# Note: This may take several minutes (~20-30 minutes)\n",
        "# SVD and obtain word embeddings of size 75. [2 marks]\n",
        "# ------------------------------\n",
        "\n",
        "U, s, Vh = np.linalg.svd(M, full_matrices = False)\n",
        "dim = 75"
      ]
    },
    {
      "cell_type": "code",
      "source": [
        "SVD_embeddings = U[:,:dim]\n",
        "print(SVD_embeddings)"
      ],
      "metadata": {
        "colab": {
          "base_uri": "https://localhost:8080/"
        },
        "id": "Y0UgpH1P8AQE",
        "outputId": "55ca5221-7eda-478d-f49a-142a8ae43357"
      },
      "execution_count": 8,
      "outputs": [
        {
          "output_type": "stream",
          "name": "stdout",
          "text": [
            "[[-2.98620315e-04 -3.84838798e-04  1.07257783e-03 ... -1.79690763e-03\n",
            "  -1.26833970e-03  4.31516980e-03]\n",
            " [-3.03451388e-05  9.23632367e-06 -1.18706208e-05 ...  8.42969015e-04\n",
            "  -1.16071723e-03  2.03855851e-03]\n",
            " [-2.10217284e-04  9.37793155e-04  2.42032372e-04 ...  8.91741421e-03\n",
            "  -6.29989717e-03 -3.65969416e-04]\n",
            " ...\n",
            " [-4.44332667e-10 -2.52553047e-10  4.92604905e-10 ...  1.75982430e-05\n",
            "  -1.66319485e-07  5.84566748e-06]\n",
            " [-2.97272153e-05  1.42203802e-05 -2.98434676e-05 ... -2.07913107e-03\n",
            "  -4.11575974e-03 -5.22232518e-04]\n",
            " [ 0.00000000e+00  0.00000000e+00  0.00000000e+00 ...  0.00000000e+00\n",
            "   0.00000000e+00  0.00000000e+00]]\n"
          ]
        }
      ]
    },
    {
      "cell_type": "code",
      "source": [
        "print(SVD_embeddings.shape)"
      ],
      "metadata": {
        "colab": {
          "base_uri": "https://localhost:8080/"
        },
        "id": "5Cp7jod_9UVp",
        "outputId": "070138f6-63a8-4564-80a0-ccbc6fbffaf7"
      },
      "execution_count": 11,
      "outputs": [
        {
          "output_type": "stream",
          "name": "stdout",
          "text": [
            "(12984, 75)\n"
          ]
        }
      ]
    },
    {
      "cell_type": "markdown",
      "metadata": {
        "id": "D4dOMjKj15cy"
      },
      "source": [
        "## (d1) Word2Vec"
      ]
    },
    {
      "cell_type": "code",
      "execution_count": 12,
      "metadata": {
        "id": "jRti6Rn815cy",
        "colab": {
          "base_uri": "https://localhost:8080/"
        },
        "outputId": "479cd754-8ef9-47bf-bf8f-ae3b36bcd166"
      },
      "outputs": [
        {
          "output_type": "stream",
          "name": "stdout",
          "text": [
            "Training Word2Vec model....\n"
          ]
        },
        {
          "output_type": "stream",
          "name": "stderr",
          "text": [
            "<ipython-input-12-c9707fc25d39>:19: DeprecationWarning: Call to deprecated `init_sims` (Gensim 4.0.0 implemented internal optimizations that make calls to init_sims() unnecessary. init_sims() is now obsoleted and will be completely removed in future versions. See https://github.com/RaRe-Technologies/gensim/wiki/Migrating-from-Gensim-3.x-to-4).\n",
            "  model.init_sims(replace=True)\n",
            "WARNING:gensim.models.keyedvectors:destructive init_sims(replace=True) deprecated & no longer required for space-efficiency\n"
          ]
        }
      ],
      "source": [
        "# Creating the word2vec model and setting values for the various parameters\n",
        "\n",
        "# Initializing the train model. \n",
        "num_features = 75   # Word vector dimensionality\n",
        "min_word_count = 40  # Minimum word count. You can change it also.\n",
        "num_workers = 4     # Number of parallel threads, can be changed\n",
        "context = 10         # Context window size\n",
        "downsampling = 1e-3 # (0.001) Downsample setting for frequent words, can be changed\n",
        "# Initializing the train model\n",
        "print(\"Training Word2Vec model....\")\n",
        "model = word2vec.Word2Vec(twitter_corpus,\\\n",
        "                          workers=num_workers,\\\n",
        "                          vector_size=num_features,\\\n",
        "                          min_count=min_word_count,\\\n",
        "                          window=context,\n",
        "                          sample=downsampling)\n",
        "\n",
        "# To make the model memory efficient\n",
        "model.init_sims(replace=True)"
      ]
    },
    {
      "cell_type": "markdown",
      "metadata": {
        "id": "asqnIK1315c0"
      },
      "source": [
        "## (d2) Compare SVD word embeddings with Word2Vec"
      ]
    },
    {
      "cell_type": "code",
      "execution_count": 60,
      "metadata": {
        "id": "bwGC7K0z15c3"
      },
      "outputs": [],
      "source": [
        "from sklearn.metrics.pairwise import cosine_similarity\n",
        "\n",
        "def svd_most_similar(query_word, n=10):\n",
        "    \"\"\" return 'n' most similar words of a query word using the SVD word embeddings similar to word2vec's most_smilar    \n",
        "        Params:\n",
        "            query_word (strings): a query word\n",
        "        Return:\n",
        "            most_similar (list of strings): the list of 'n' most similar words\n",
        "    \"\"\"\n",
        "    # get index of a query_word\n",
        "    query_word_idx = word2Ind[query_word]\n",
        "    # get word embedding for a query_word\n",
        "    word = SVD_embeddings[query_word_idx]\n",
        "    #cosine similarity matrix\n",
        "    cos_similarity = cosine_similarity(SVD_embeddings, word.reshape(1, -1))\n",
        "    most_similar = []\n",
        "    \"\"\"\n",
        "    'Write additional code to compute the list most_similar. Each entry in the list is a tuple (w, cos)\n",
        "    'where w is one of the most similar word to query_word and cos is cosine similarity of w with query_word\n",
        "    \"\"\"\n",
        "    for w in words:\n",
        "      if (w == query_word):\n",
        "        continue\n",
        "      cosi_similarity = cosine_similarity(SVD_embeddings[word2Ind[w]].reshape(1, -1), word.reshape(1, -1))\n",
        "      most_similar.append((w, cosi_similarity[0][0].astype(float)))\n",
        "    most_similar.sort(key = lambda x: x[1])\n",
        "    most_similar.reverse()\n",
        "    return most_similar[0:10]\n",
        "    "
      ]
    },
    {
      "cell_type": "markdown",
      "metadata": {
        "id": "W3Fbmd6y15c4"
      },
      "source": [
        "## SVD vs Word2Vec: \"???\""
      ]
    },
    {
      "cell_type": "code",
      "execution_count": 54,
      "metadata": {
        "id": "zBzFmNpH15c5",
        "colab": {
          "base_uri": "https://localhost:8080/"
        },
        "outputId": "a45775e2-b4e3-4641-e327-37a00134260f"
      },
      "outputs": [
        {
          "output_type": "execute_result",
          "data": {
            "text/plain": [
              "[('worldwarz', 0.1657200136350725),\n",
              " ('dayslater', 0.16542200057067208),\n",
              " ('iamlegend', 0.16534769853953288),\n",
              " ('mkendallbayareanewsgroupcom', 0.1583721799923436),\n",
              " ('insidejoke', 0.15267889123197742),\n",
              " ('massgovernor', 0.14342102979876528),\n",
              " ('youtuber', 0.1390676214007522),\n",
              " ('youtubechannel', 0.13826021340314062),\n",
              " ('trumppresser', 0.136026401351604),\n",
              " ('nowcoronapocalypse', 0.1345596531182594)]"
            ]
          },
          "metadata": {},
          "execution_count": 54
        }
      ],
      "source": [
        "svd_most_similar(\"covid\")"
      ]
    },
    {
      "cell_type": "code",
      "execution_count": 55,
      "metadata": {
        "id": "BxVYovyL15c5",
        "colab": {
          "base_uri": "https://localhost:8080/"
        },
        "outputId": "79c0df28-c338-4368-e2ec-766edb29526a"
      },
      "outputs": [
        {
          "output_type": "execute_result",
          "data": {
            "text/plain": [
              "[('country', 0.9987647533416748),\n",
              " ('china', 0.9987171292304993),\n",
              " ('virus', 0.9986136555671692),\n",
              " ('ppl', 0.9985262155532837),\n",
              " ('products', 0.9985156655311584),\n",
              " ('first', 0.9984710812568665),\n",
              " ('soap', 0.9984516501426697),\n",
              " ('low', 0.9984477758407593),\n",
              " ('pandemic', 0.9984383583068848),\n",
              " ('corona', 0.9984352588653564)]"
            ]
          },
          "metadata": {},
          "execution_count": 55
        }
      ],
      "source": [
        "model.wv.most_similar(\"covid\") #this word2vec trained model on tweets"
      ]
    },
    {
      "cell_type": "code",
      "source": [
        "svd_most_similar(\"grocery\")"
      ],
      "metadata": {
        "id": "tWWyBDGPpYcp",
        "colab": {
          "base_uri": "https://localhost:8080/"
        },
        "outputId": "18480404-fe98-4229-fb5c-8f92bc28cde5"
      },
      "execution_count": 56,
      "outputs": [
        {
          "output_type": "execute_result",
          "data": {
            "text/plain": [
              "[('accusationsht', 0.4511142908938376),\n",
              " ('dashpay', 0.4175264740339228),\n",
              " ('elys', 0.41711651697408986),\n",
              " ('effing', 0.3651110785251136),\n",
              " ('coindesk', 0.35647753349239264),\n",
              " ('llama', 0.3483185427475506),\n",
              " ('malware', 0.3295038384056452),\n",
              " ('pajama', 0.3241695638006173),\n",
              " ('maggi', 0.3160654991030448),\n",
              " ('nicroman', 0.3132467395475801)]"
            ]
          },
          "metadata": {},
          "execution_count": 56
        }
      ]
    },
    {
      "cell_type": "code",
      "source": [
        "model.wv.most_similar(\"grocery\")"
      ],
      "metadata": {
        "id": "UcsipeIhpaHh",
        "colab": {
          "base_uri": "https://localhost:8080/"
        },
        "outputId": "b5861377-eec2-4e5c-9d81-e262b7a9393b"
      },
      "execution_count": 57,
      "outputs": [
        {
          "output_type": "execute_result",
          "data": {
            "text/plain": [
              "[('went', 0.9961752891540527),\n",
              " ('tp', 0.995117723941803),\n",
              " ('ive', 0.9950107932090759),\n",
              " ('didnt', 0.9949583411216736),\n",
              " ('coronapocalypse', 0.9949297904968262),\n",
              " ('got', 0.9948993921279907),\n",
              " ('crazy', 0.9948153495788574),\n",
              " ('empty', 0.9947752952575684),\n",
              " ('every', 0.9947537183761597),\n",
              " ('lines', 0.9947482943534851)]"
            ]
          },
          "metadata": {},
          "execution_count": 57
        }
      ]
    },
    {
      "cell_type": "code",
      "source": [],
      "metadata": {
        "id": "A1X7P3q-pcEK"
      },
      "execution_count": null,
      "outputs": []
    }
  ],
  "metadata": {
    "kernelspec": {
      "display_name": "Python 3",
      "language": "python",
      "name": "python3"
    },
    "language_info": {
      "codemirror_mode": {
        "name": "ipython",
        "version": 3
      },
      "file_extension": ".py",
      "mimetype": "text/x-python",
      "name": "python",
      "nbconvert_exporter": "python",
      "pygments_lexer": "ipython3",
      "version": "3.7.6"
    },
    "colab": {
      "provenance": []
    }
  },
  "nbformat": 4,
  "nbformat_minor": 0
}