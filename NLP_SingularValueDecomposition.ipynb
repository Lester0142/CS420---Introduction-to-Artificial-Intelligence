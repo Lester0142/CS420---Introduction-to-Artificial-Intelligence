{
  "cells": [
    {
      "cell_type": "markdown",
      "source": [
        "Look into https://dylancastillo.co/nlp-snippets-clean-and-tokenize-text-with-python/ for better tokenization and cleaning."
      ],
      "metadata": {
        "id": "pCFv-jqHX7P8"
      }
    },
    {
      "cell_type": "code",
      "execution_count": 1,
      "metadata": {
        "id": "QjHK80jR15cb",
        "colab": {
          "base_uri": "https://localhost:8080/"
        },
        "outputId": "ef4d5c0c-60cd-45d5-cc9d-d4bc71de8cb4"
      },
      "outputs": [
        {
          "output_type": "stream",
          "name": "stderr",
          "text": [
            "[nltk_data] Downloading package stopwords to /root/nltk_data...\n",
            "[nltk_data]   Unzipping corpora/stopwords.zip.\n",
            "[nltk_data] Downloading package punkt to /root/nltk_data...\n",
            "[nltk_data]   Unzipping tokenizers/punkt.zip.\n"
          ]
        },
        {
          "output_type": "stream",
          "name": "stdout",
          "text": [
            "Mounted at /content/drive\n"
          ]
        }
      ],
      "source": [
        "import nltk\n",
        "nltk.download('stopwords')\n",
        "from nltk.corpus import stopwords\n",
        "nltk.download('punkt')\n",
        "\n",
        "import numpy as np\n",
        "import pandas as pd\n",
        "from gensim.models import word2vec\n",
        "\n",
        "from google.colab import drive\n",
        "drive.mount('/content/drive')\n",
        "\n",
        "import re # For regular expressions"
      ]
    },
    {
      "cell_type": "markdown",
      "metadata": {
        "id": "UTam_xXUv2Z9"
      },
      "source": [
        "## (a) Load the dataset"
      ]
    },
    {
      "cell_type": "code",
      "source": [
        "tweets = pd.read_csv('/content/drive/MyDrive/Colab Notebooks/Corona_Tweets.csv', names=['text'])"
      ],
      "metadata": {
        "id": "jlh6Xgv8sOlY"
      },
      "execution_count": 2,
      "outputs": []
    },
    {
      "cell_type": "code",
      "source": [
        "tweets.head()\n"
      ],
      "metadata": {
        "id": "5Xu1xS4Ht6bv",
        "outputId": "5a5d2043-f7a2-4447-ed26-6fda580c71e7",
        "colab": {
          "base_uri": "https://localhost:8080/",
          "height": 206
        }
      },
      "execution_count": 3,
      "outputs": [
        {
          "output_type": "execute_result",
          "data": {
            "text/plain": [
              "                                                text\n",
              "0  TRENDING: New Yorkers encounter empty supermar...\n",
              "1  When I couldn't find hand sanitizer at Fred Me...\n",
              "2  Find out how you can protect yourself and love...\n",
              "3  #Panic buying hits #NewYork City as anxious sh...\n",
              "4  #toiletpaper #dunnypaper #coronavirus #coronav..."
            ],
            "text/html": [
              "\n",
              "  <div id=\"df-7d78ea4a-69b4-47ff-9605-2f88988f2d75\">\n",
              "    <div class=\"colab-df-container\">\n",
              "      <div>\n",
              "<style scoped>\n",
              "    .dataframe tbody tr th:only-of-type {\n",
              "        vertical-align: middle;\n",
              "    }\n",
              "\n",
              "    .dataframe tbody tr th {\n",
              "        vertical-align: top;\n",
              "    }\n",
              "\n",
              "    .dataframe thead th {\n",
              "        text-align: right;\n",
              "    }\n",
              "</style>\n",
              "<table border=\"1\" class=\"dataframe\">\n",
              "  <thead>\n",
              "    <tr style=\"text-align: right;\">\n",
              "      <th></th>\n",
              "      <th>text</th>\n",
              "    </tr>\n",
              "  </thead>\n",
              "  <tbody>\n",
              "    <tr>\n",
              "      <th>0</th>\n",
              "      <td>TRENDING: New Yorkers encounter empty supermar...</td>\n",
              "    </tr>\n",
              "    <tr>\n",
              "      <th>1</th>\n",
              "      <td>When I couldn't find hand sanitizer at Fred Me...</td>\n",
              "    </tr>\n",
              "    <tr>\n",
              "      <th>2</th>\n",
              "      <td>Find out how you can protect yourself and love...</td>\n",
              "    </tr>\n",
              "    <tr>\n",
              "      <th>3</th>\n",
              "      <td>#Panic buying hits #NewYork City as anxious sh...</td>\n",
              "    </tr>\n",
              "    <tr>\n",
              "      <th>4</th>\n",
              "      <td>#toiletpaper #dunnypaper #coronavirus #coronav...</td>\n",
              "    </tr>\n",
              "  </tbody>\n",
              "</table>\n",
              "</div>\n",
              "      <button class=\"colab-df-convert\" onclick=\"convertToInteractive('df-7d78ea4a-69b4-47ff-9605-2f88988f2d75')\"\n",
              "              title=\"Convert this dataframe to an interactive table.\"\n",
              "              style=\"display:none;\">\n",
              "        \n",
              "  <svg xmlns=\"http://www.w3.org/2000/svg\" height=\"24px\"viewBox=\"0 0 24 24\"\n",
              "       width=\"24px\">\n",
              "    <path d=\"M0 0h24v24H0V0z\" fill=\"none\"/>\n",
              "    <path d=\"M18.56 5.44l.94 2.06.94-2.06 2.06-.94-2.06-.94-.94-2.06-.94 2.06-2.06.94zm-11 1L8.5 8.5l.94-2.06 2.06-.94-2.06-.94L8.5 2.5l-.94 2.06-2.06.94zm10 10l.94 2.06.94-2.06 2.06-.94-2.06-.94-.94-2.06-.94 2.06-2.06.94z\"/><path d=\"M17.41 7.96l-1.37-1.37c-.4-.4-.92-.59-1.43-.59-.52 0-1.04.2-1.43.59L10.3 9.45l-7.72 7.72c-.78.78-.78 2.05 0 2.83L4 21.41c.39.39.9.59 1.41.59.51 0 1.02-.2 1.41-.59l7.78-7.78 2.81-2.81c.8-.78.8-2.07 0-2.86zM5.41 20L4 18.59l7.72-7.72 1.47 1.35L5.41 20z\"/>\n",
              "  </svg>\n",
              "      </button>\n",
              "      \n",
              "  <style>\n",
              "    .colab-df-container {\n",
              "      display:flex;\n",
              "      flex-wrap:wrap;\n",
              "      gap: 12px;\n",
              "    }\n",
              "\n",
              "    .colab-df-convert {\n",
              "      background-color: #E8F0FE;\n",
              "      border: none;\n",
              "      border-radius: 50%;\n",
              "      cursor: pointer;\n",
              "      display: none;\n",
              "      fill: #1967D2;\n",
              "      height: 32px;\n",
              "      padding: 0 0 0 0;\n",
              "      width: 32px;\n",
              "    }\n",
              "\n",
              "    .colab-df-convert:hover {\n",
              "      background-color: #E2EBFA;\n",
              "      box-shadow: 0px 1px 2px rgba(60, 64, 67, 0.3), 0px 1px 3px 1px rgba(60, 64, 67, 0.15);\n",
              "      fill: #174EA6;\n",
              "    }\n",
              "\n",
              "    [theme=dark] .colab-df-convert {\n",
              "      background-color: #3B4455;\n",
              "      fill: #D2E3FC;\n",
              "    }\n",
              "\n",
              "    [theme=dark] .colab-df-convert:hover {\n",
              "      background-color: #434B5C;\n",
              "      box-shadow: 0px 1px 3px 1px rgba(0, 0, 0, 0.15);\n",
              "      filter: drop-shadow(0px 1px 2px rgba(0, 0, 0, 0.3));\n",
              "      fill: #FFFFFF;\n",
              "    }\n",
              "  </style>\n",
              "\n",
              "      <script>\n",
              "        const buttonEl =\n",
              "          document.querySelector('#df-7d78ea4a-69b4-47ff-9605-2f88988f2d75 button.colab-df-convert');\n",
              "        buttonEl.style.display =\n",
              "          google.colab.kernel.accessAllowed ? 'block' : 'none';\n",
              "\n",
              "        async function convertToInteractive(key) {\n",
              "          const element = document.querySelector('#df-7d78ea4a-69b4-47ff-9605-2f88988f2d75');\n",
              "          const dataTable =\n",
              "            await google.colab.kernel.invokeFunction('convertToInteractive',\n",
              "                                                     [key], {});\n",
              "          if (!dataTable) return;\n",
              "\n",
              "          const docLinkHtml = 'Like what you see? Visit the ' +\n",
              "            '<a target=\"_blank\" href=https://colab.research.google.com/notebooks/data_table.ipynb>data table notebook</a>'\n",
              "            + ' to learn more about interactive tables.';\n",
              "          element.innerHTML = '';\n",
              "          dataTable['output_type'] = 'display_data';\n",
              "          await google.colab.output.renderOutput(dataTable, element);\n",
              "          const docLink = document.createElement('div');\n",
              "          docLink.innerHTML = docLinkHtml;\n",
              "          element.appendChild(docLink);\n",
              "        }\n",
              "      </script>\n",
              "    </div>\n",
              "  </div>\n",
              "  "
            ]
          },
          "metadata": {},
          "execution_count": 3
        }
      ]
    },
    {
      "cell_type": "code",
      "source": [
        "def load_data():\n",
        "    tokenizer = nltk.data.load('tokenizers/punkt/english.pickle')\n",
        "    \"\"\" Read tweets from the file.\n",
        "        Return:\n",
        "            list of lists (list_words), with words from each of the processed tweets\n",
        "    \"\"\"\n",
        "    tweets = pd.read_csv('/content/drive/MyDrive/Colab Notebooks/Corona_Tweets.csv', names=['text'])\n",
        "    list_words = []\n",
        "    ### iterate over all tweets from the dataset\n",
        "    for i in tweets.index:\n",
        "      ### remove non-letter.\n",
        "      text = re.sub('[^A-Za-z ]', ' ', (re.sub(r'http\\S+', '', tweets.iloc[i,0])))\n",
        "      ### tokenize\n",
        "      sentences = tokenizer.tokenize(text.strip())\n",
        "      \n",
        "      new_words = []\n",
        "      ### iterate over all words of a tweet\n",
        "      for s in sentences:\n",
        "        for w in s.split(\" \"):\n",
        "          #print('before: ',w)\n",
        "          ## TODO: remove the stop words and convert a word (w) to the lower case\n",
        "          w = w.lower()\n",
        "          if w in stopwords.words('english') or w == '':\n",
        "            continue\n",
        "          #print('after: ', w)\n",
        "          new_words.append(w)\n",
        "        list_words.append(new_words)\n",
        "    return list_words\n",
        "\n",
        "# check a few samples of twitter corpus\n",
        "twitter_corpus = load_data()\n",
        "print(twitter_corpus[:5])"
      ],
      "metadata": {
        "id": "xQsTJcH2X-9E",
        "colab": {
          "base_uri": "https://localhost:8080/"
        },
        "outputId": "62cdb187-99ac-4380-869a-afb7ca26797c"
      },
      "execution_count": 83,
      "outputs": [
        {
          "output_type": "stream",
          "name": "stdout",
          "text": [
            "[['trending', 'new', 'yorkers', 'encounter', 'empty', 'supermarket', 'shelves', 'pictured', 'wegmans', 'brooklyn', 'sold', 'online', 'grocers', 'foodkick', 'maxdelivery', 'coronavirus', 'fearing', 'shoppers', 'stock'], ['find', 'hand', 'sanitizer', 'fred', 'meyer', 'turned', 'amazon', 'pack', 'purell', 'check', 'coronavirus', 'concerns', 'driving', 'prices'], ['find', 'protect', 'loved', 'ones', 'coronavirus'], ['panic', 'buying', 'hits', 'newyork', 'city', 'anxious', 'shoppers', 'stock', 'food', 'amp', 'medical', 'supplies', 'healthcare', 'worker', 'becomes', 'bigapple', 'st', 'confirmed', 'coronavirus', 'patient', 'bloomberg', 'staged', 'event', 'qanon', 'qanon', 'qanon', 'election', 'cdc'], ['toiletpaper', 'dunnypaper', 'coronavirus', 'coronavirusaustralia', 'coronavirusupdate', 'covid', 'news', 'corvid', 'newsmelb', 'dunnypapergate', 'costco', 'one', 'week', 'everyone', 'buying', 'baby', 'milk', 'powder', 'next', 'everyone', 'buying', 'toilet', 'paper']]\n"
          ]
        }
      ]
    },
    {
      "cell_type": "markdown",
      "metadata": {
        "id": "e-ZkbmSX15ck"
      },
      "source": [
        "## (b) Create co-occurrence matrix"
      ]
    },
    {
      "cell_type": "code",
      "execution_count": 84,
      "metadata": {
        "id": "X3B83uir15cn",
        "colab": {
          "base_uri": "https://localhost:8080/"
        },
        "outputId": "de1c2b4e-d90a-4635-a013-db64a1138781"
      },
      "outputs": [
        {
          "output_type": "stream",
          "name": "stdout",
          "text": [
            "['aadya', 'aadyasitara', 'aamiin', 'aapl', 'abajam', 'abandon', 'abandoning', 'abc', 'abeg', 'abid'] 11329\n"
          ]
        }
      ],
      "source": [
        "def distinct_words(corpus):\n",
        "    \"\"\" get a list of distinct words for the corpus.\n",
        "        Params:\n",
        "            corpus (list of list of strings): corpus of documents\n",
        "        Return:\n",
        "            corpus_words (list of strings): list of distinct words across the corpus, sorted (using python 'sorted' function)\n",
        "            num_corpus_words (integer): number of distinct words across the corpus\n",
        "    \"\"\"\n",
        "    corpus_words = []\n",
        "    num_corpus_words = 0\n",
        "    # ------------------\n",
        "    # TODO:\n",
        "    # ------------------\n",
        "    for sentence in corpus:\n",
        "      for term in sentence:\n",
        "        if term in corpus_words:\n",
        "          continue\n",
        "        else:\n",
        "          corpus_words.append(term)\n",
        "          num_corpus_words += 1\n",
        "    return sorted(corpus_words), num_corpus_words\n",
        "\n",
        "words, num_words = distinct_words(twitter_corpus)\n",
        "print(words[:10], num_words)"
      ]
    },
    {
      "cell_type": "code",
      "execution_count": 85,
      "metadata": {
        "scrolled": true,
        "id": "8WB4cZBR15cp"
      },
      "outputs": [],
      "source": [
        "def compute_co_occurrence_matrix(corpus, window_size=5):\n",
        "    \"\"\" Compute co-occurrence matrix for the given corpus and window_size (default of 5).    \n",
        "        Params:\n",
        "            corpus (list of list of strings): corpus of documents\n",
        "            window_size (int): size of context window\n",
        "        Return:\n",
        "            M (numpy matrix of shape = [number of corpus words x number of corpus words]): \n",
        "                Co-occurence matrix of word counts. \n",
        "                The ordering of the words in the rows/columns should be the same as the ordering of the words given by the distinct_words function.\n",
        "            word2Ind (dict): dictionary that maps word to index (i.e. row/column number) for matrix M.\n",
        "    \"\"\"\n",
        "    M = None\n",
        "    word2Ind = {}\n",
        "    # ------------------\n",
        "    # TODO:\n",
        "    # ------------------\n",
        "    distinctWords, numberOfWords = distinct_words(corpus)\n",
        "    M = np.zeros((numberOfWords, numberOfWords), dtype=int)\n",
        "    word2Ind = {key: value for value, key in enumerate(distinctWords)}\n",
        "\n",
        "    for sentences in corpus:\n",
        "      for t in range(len(sentences)):\n",
        "        for i in range(1, window_size+1):\n",
        "          if (t + i < len(sentences)):\n",
        "            if (sentences[t] == sentences[t+i]):\n",
        "              continue\n",
        "            M[word2Ind.get(sentences[t])][word2Ind.get(sentences[t+i])] = M[word2Ind.get(sentences[t])][word2Ind.get(sentences[t+i])] + 1\n",
        "            M[word2Ind.get(sentences[t+i])][word2Ind.get(sentences[t])] = M[word2Ind.get(sentences[t+i])][word2Ind.get(sentences[t])] + 1\n",
        "            \n",
        "    return M, word2Ind\n",
        "\n",
        "M, word2Ind = compute_co_occurrence_matrix(twitter_corpus)"
      ]
    },
    {
      "cell_type": "markdown",
      "metadata": {
        "id": "11njtWHx15cv"
      },
      "source": [
        "## (c) SVD"
      ]
    },
    {
      "cell_type": "code",
      "execution_count": 86,
      "metadata": {
        "id": "LddeVOq615cv"
      },
      "outputs": [],
      "source": [
        "# -----------------------------\n",
        "# Run SVD\n",
        "# Note: This may take several minutes (~20-30 minutes)\n",
        "# SVD and obtain word embeddings of size 75. [2 marks]\n",
        "# ------------------------------\n",
        "\n",
        "U, s, Vh = np.linalg.svd(M, full_matrices = False)\n",
        "dim = 75"
      ]
    },
    {
      "cell_type": "code",
      "source": [
        "SVD_embeddings = U[:,:dim]\n",
        "print(SVD_embeddings)"
      ],
      "metadata": {
        "colab": {
          "base_uri": "https://localhost:8080/"
        },
        "id": "Y0UgpH1P8AQE",
        "outputId": "2389f7e9-54a1-44e5-8a0e-f6678b46cfb1"
      },
      "execution_count": 87,
      "outputs": [
        {
          "output_type": "stream",
          "name": "stdout",
          "text": [
            "[[-2.89359061e-04  8.94298798e-04 -2.00384421e-04 ... -1.41461670e-03\n",
            "  -2.83131694e-03 -4.51807535e-04]\n",
            " [-5.78648725e-05 -2.60518319e-05  7.59015348e-07 ... -1.47781419e-03\n",
            "  -2.66428199e-03 -4.76970458e-04]\n",
            " [-2.77121697e-05 -1.87857091e-05 -3.33057849e-06 ... -6.17710485e-03\n",
            "  -2.50990161e-03  4.59517934e-04]\n",
            " ...\n",
            " [-2.29894553e-04 -9.92902168e-05 -9.54370402e-06 ... -2.22686922e-03\n",
            "   3.02238595e-03  3.54157679e-03]\n",
            " [-1.69065264e-04 -1.35788345e-04  1.94673289e-05 ... -7.71412145e-04\n",
            "  -2.07956828e-04 -9.30110533e-04]\n",
            " [-6.83880735e-06 -9.96293171e-06  5.06565824e-06 ... -1.83436799e-04\n",
            "   5.19580968e-05  1.35731535e-04]]\n"
          ]
        }
      ]
    },
    {
      "cell_type": "code",
      "source": [
        "print(SVD_embeddings.shape)"
      ],
      "metadata": {
        "colab": {
          "base_uri": "https://localhost:8080/"
        },
        "id": "5Cp7jod_9UVp",
        "outputId": "4f3c8cde-203e-4e02-a6ff-a3f838da4aaf"
      },
      "execution_count": 88,
      "outputs": [
        {
          "output_type": "stream",
          "name": "stdout",
          "text": [
            "(11329, 75)\n"
          ]
        }
      ]
    },
    {
      "cell_type": "markdown",
      "metadata": {
        "id": "D4dOMjKj15cy"
      },
      "source": [
        "## (d1) Word2Vec"
      ]
    },
    {
      "cell_type": "code",
      "execution_count": 89,
      "metadata": {
        "id": "jRti6Rn815cy",
        "colab": {
          "base_uri": "https://localhost:8080/"
        },
        "outputId": "76c398df-4705-4152-ad86-aa98c557f9f7"
      },
      "outputs": [
        {
          "output_type": "stream",
          "name": "stdout",
          "text": [
            "Training Word2Vec model....\n"
          ]
        },
        {
          "output_type": "stream",
          "name": "stderr",
          "text": [
            "<ipython-input-89-c9707fc25d39>:19: DeprecationWarning: Call to deprecated `init_sims` (Gensim 4.0.0 implemented internal optimizations that make calls to init_sims() unnecessary. init_sims() is now obsoleted and will be completely removed in future versions. See https://github.com/RaRe-Technologies/gensim/wiki/Migrating-from-Gensim-3.x-to-4).\n",
            "  model.init_sims(replace=True)\n",
            "WARNING:gensim.models.keyedvectors:destructive init_sims(replace=True) deprecated & no longer required for space-efficiency\n"
          ]
        }
      ],
      "source": [
        "# Creating the word2vec model and setting values for the various parameters\n",
        "\n",
        "# Initializing the train model. \n",
        "num_features = 75   # Word vector dimensionality\n",
        "min_word_count = 40  # Minimum word count. You can change it also.\n",
        "num_workers = 4     # Number of parallel threads, can be changed\n",
        "context = 10         # Context window size\n",
        "downsampling = 1e-3 # (0.001) Downsample setting for frequent words, can be changed\n",
        "# Initializing the train model\n",
        "print(\"Training Word2Vec model....\")\n",
        "model = word2vec.Word2Vec(twitter_corpus,\\\n",
        "                          workers=num_workers,\\\n",
        "                          vector_size=num_features,\\\n",
        "                          min_count=min_word_count,\\\n",
        "                          window=context,\n",
        "                          sample=downsampling)\n",
        "\n",
        "# To make the model memory efficient\n",
        "model.init_sims(replace=True)"
      ]
    },
    {
      "cell_type": "markdown",
      "metadata": {
        "id": "asqnIK1315c0"
      },
      "source": [
        "## (d2) Compare SVD word embeddings with Word2Vec"
      ]
    },
    {
      "cell_type": "code",
      "execution_count": 90,
      "metadata": {
        "id": "bwGC7K0z15c3"
      },
      "outputs": [],
      "source": [
        "from sklearn.metrics.pairwise import cosine_similarity\n",
        "\n",
        "def svd_most_similar(query_word, n=10):\n",
        "    \"\"\" return 'n' most similar words of a query word using the SVD word embeddings similar to word2vec's most_smilar    \n",
        "        Params:\n",
        "            query_word (strings): a query word\n",
        "        Return:\n",
        "            most_similar (list of strings): the list of 'n' most similar words\n",
        "    \"\"\"\n",
        "    # get index of a query_word\n",
        "    query_word_idx = word2Ind[query_word]\n",
        "    # get word embedding for a query_word\n",
        "    word = SVD_embeddings[query_word_idx]\n",
        "    #cosine similarity matrix\n",
        "    cos_similarity = cosine_similarity(SVD_embeddings, word.reshape(1, -1))\n",
        "    most_similar = []\n",
        "    \"\"\"\n",
        "    'Write additional code to compute the list most_similar. Each entry in the list is a tuple (w, cos)\n",
        "    'where w is one of the most similar word to query_word and cos is cosine similarity of w with query_word\n",
        "    \"\"\"\n",
        "    for w in words:\n",
        "      if (w == query_word):\n",
        "        continue\n",
        "      cosi_similarity = cosine_similarity(SVD_embeddings[word2Ind[w]].reshape(1, -1), word.reshape(1, -1))\n",
        "      most_similar.append((w, cosi_similarity[0][0].astype(float)))\n",
        "    most_similar.sort(key = lambda x: x[1])\n",
        "    most_similar.reverse()\n",
        "    return most_similar[0:10]\n",
        "    "
      ]
    },
    {
      "cell_type": "markdown",
      "metadata": {
        "id": "W3Fbmd6y15c4"
      },
      "source": [
        "## SVD vs Word2Vec: \"???\""
      ]
    },
    {
      "cell_type": "code",
      "execution_count": 91,
      "metadata": {
        "id": "zBzFmNpH15c5",
        "colab": {
          "base_uri": "https://localhost:8080/"
        },
        "outputId": "a0f965a4-2fd7-475a-d09c-eb77a8fcc7db"
      },
      "outputs": [
        {
          "output_type": "execute_result",
          "data": {
            "text/plain": [
              "[('dayslater', 0.15211207951811148),\n",
              " ('bayareanewsgroup', 0.1518003966546849),\n",
              " ('iamlegend', 0.15143269034472234),\n",
              " ('insidejoke', 0.14743165680859183),\n",
              " ('mkendall', 0.14216628913308402),\n",
              " ('worldwarz', 0.13651493010346166),\n",
              " ('trumppresser', 0.12901769515039543),\n",
              " ('ventilators', 0.12666162004513276),\n",
              " ('canadaprmasterclass', 0.11511970555996316),\n",
              " ('youtuber', 0.11106161290140464)]"
            ]
          },
          "metadata": {},
          "execution_count": 91
        }
      ],
      "source": [
        "svd_most_similar(\"covid\")"
      ]
    },
    {
      "cell_type": "code",
      "execution_count": 92,
      "metadata": {
        "id": "BxVYovyL15c5",
        "colab": {
          "base_uri": "https://localhost:8080/"
        },
        "outputId": "8a5edb3e-9383-4c87-8644-5d64cc82555d"
      },
      "outputs": [
        {
          "output_type": "execute_result",
          "data": {
            "text/plain": [
              "[('much', 0.998649537563324),\n",
              " ('going', 0.9984346628189087),\n",
              " ('left', 0.9984264373779297),\n",
              " ('back', 0.9982723593711853),\n",
              " ('virus', 0.9982688426971436),\n",
              " ('selling', 0.998207688331604),\n",
              " ('good', 0.9981772899627686),\n",
              " ('right', 0.9981626868247986),\n",
              " ('like', 0.9981588125228882),\n",
              " ('stocked', 0.9981558918952942)]"
            ]
          },
          "metadata": {},
          "execution_count": 92
        }
      ],
      "source": [
        "model.wv.most_similar(\"covid\") #this word2vec trained model on tweets"
      ]
    },
    {
      "cell_type": "code",
      "source": [
        "svd_most_similar(\"grocery\")"
      ],
      "metadata": {
        "id": "tWWyBDGPpYcp",
        "colab": {
          "base_uri": "https://localhost:8080/"
        },
        "outputId": "3db883a3-6895-4844-df79-4de5b570ef7b"
      },
      "execution_count": 93,
      "outputs": [
        {
          "output_type": "execute_result",
          "data": {
            "text/plain": [
              "[('ht', 0.4620264362211107),\n",
              " ('accusations', 0.45600531657149773),\n",
              " ('elys', 0.41677304369122675),\n",
              " ('dashpay', 0.3996438569491531),\n",
              " ('pleaselike', 0.36164498195548106),\n",
              " ('effing', 0.36082555543703004),\n",
              " ('malware', 0.35626459489036155),\n",
              " ('llama', 0.34977194944182416),\n",
              " ('coindesk', 0.34647039787325523),\n",
              " ('pajama', 0.34066901693332785)]"
            ]
          },
          "metadata": {},
          "execution_count": 93
        }
      ]
    },
    {
      "cell_type": "code",
      "source": [
        "model.wv.most_similar(\"grocery\")"
      ],
      "metadata": {
        "id": "UcsipeIhpaHh",
        "colab": {
          "base_uri": "https://localhost:8080/"
        },
        "outputId": "dcbea389-c115-4ca0-9f1b-7ea8c3f4056e"
      },
      "execution_count": 94,
      "outputs": [
        {
          "output_type": "execute_result",
          "data": {
            "text/plain": [
              "[('went', 0.9970299005508423),\n",
              " ('coronapocalypse', 0.9969602823257446),\n",
              " ('got', 0.9968372583389282),\n",
              " ('empty', 0.9966487288475037),\n",
              " ('supermarket', 0.9966257214546204),\n",
              " ('gone', 0.9966016411781311),\n",
              " ('store', 0.9964069128036499),\n",
              " ('yesterday', 0.9963367581367493),\n",
              " ('coronaviruspandemic', 0.9961442947387695),\n",
              " ('still', 0.9961057901382446)]"
            ]
          },
          "metadata": {},
          "execution_count": 94
        }
      ]
    },
    {
      "cell_type": "code",
      "source": [],
      "metadata": {
        "id": "ImX38R0wHz_J"
      },
      "execution_count": null,
      "outputs": []
    }
  ],
  "metadata": {
    "kernelspec": {
      "display_name": "Python 3",
      "language": "python",
      "name": "python3"
    },
    "language_info": {
      "codemirror_mode": {
        "name": "ipython",
        "version": 3
      },
      "file_extension": ".py",
      "mimetype": "text/x-python",
      "name": "python",
      "nbconvert_exporter": "python",
      "pygments_lexer": "ipython3",
      "version": "3.7.6"
    },
    "colab": {
      "provenance": []
    }
  },
  "nbformat": 4,
  "nbformat_minor": 0
}