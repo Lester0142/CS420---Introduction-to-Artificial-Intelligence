{
  "nbformat": 4,
  "nbformat_minor": 0,
  "metadata": {
    "kernelspec": {
      "display_name": "Python 3",
      "language": "python",
      "name": "python3"
    },
    "language_info": {
      "codemirror_mode": {
        "name": "ipython",
        "version": 3
      },
      "file_extension": ".py",
      "mimetype": "text/x-python",
      "name": "python",
      "nbconvert_exporter": "python",
      "pygments_lexer": "ipython3",
      "version": "3.6.5"
    },
    "colab": {
      "provenance": []
    },
    "accelerator": "GPU",
    "gpuClass": "standard"
  },
  "cells": [
    {
      "cell_type": "markdown",
      "source": [
        "Object:\n",
        "1. Apply Transfer Learning (https://www.tensorflow.org/tutorials/images/transfer_learning)\n",
        "2. Learn to implement LeNet (https://en.wikipedia.org/wiki/LeNet)\n",
        "3. Familiarize with Keras Callbacks API (https://keras.io/api/callbacks/) -> ModelCheckpoint, EarlyStopping\n"
      ],
      "metadata": {
        "id": "TuMLQ2CHHsTi"
      }
    },
    {
      "cell_type": "markdown",
      "metadata": {
        "id": "zOVes3x0KPRS"
      },
      "source": [
        "## Import tensorflow, keras modules"
      ]
    },
    {
      "cell_type": "code",
      "metadata": {
        "id": "izF3NkgbKPRX",
        "colab": {
          "base_uri": "https://localhost:8080/"
        },
        "outputId": "206a7c88-a540-449a-e90e-ceb3e1f01647"
      },
      "source": [
        "#from __future__ import absolute_import, division, print_function, unicode_literals\n",
        "import tensorflow as tf\n",
        "from tensorflow.keras import layers\n",
        "import tensorflow_datasets as tfds  # For loading datasets\n",
        "import numpy as np\n",
        "import matplotlib.pyplot as plt     # For plotting images\n",
        "import cv2                          # For resizing images\n",
        "from keras import Model\n",
        "import keras\n",
        "\n",
        "print(tf.version.VERSION)\n",
        "print(tf.keras.__version__)"
      ],
      "execution_count": null,
      "outputs": [
        {
          "output_type": "stream",
          "name": "stdout",
          "text": [
            "2.11.0\n",
            "2.11.0\n"
          ]
        }
      ]
    },
    {
      "cell_type": "code",
      "metadata": {
        "id": "GxzWqF8mOTbb",
        "colab": {
          "base_uri": "https://localhost:8080/"
        },
        "outputId": "65eec13a-dc13-4c6b-9c92-b749b558a457"
      },
      "source": [
        "#testing the GPU\n",
        "device_name = tf.test.gpu_device_name()\n",
        "if device_name != '/device:GPU:0':\n",
        "  raise SystemError('GPU device not found')\n",
        "print('Found GPU at: {}'.format(device_name))"
      ],
      "execution_count": null,
      "outputs": [
        {
          "output_type": "stream",
          "name": "stdout",
          "text": [
            "Found GPU at: /device:GPU:0\n"
          ]
        }
      ]
    },
    {
      "cell_type": "markdown",
      "metadata": {
        "id": "Bc3v3STEKPRY"
      },
      "source": [
        "## Import  MNIST Dataset"
      ]
    },
    {
      "cell_type": "code",
      "metadata": {
        "id": "4b-VAynpKPRY"
      },
      "source": [
        "mnist = tf.keras.datasets.mnist\n",
        "# More dataset choices here: https://www.tensorflow.org/api_docs/python/tf/keras/datasets\n",
        "# input image dimensions\n",
        "img_x, img_y, img_z = 28, 28, 1"
      ],
      "execution_count": null,
      "outputs": []
    },
    {
      "cell_type": "code",
      "metadata": {
        "id": "TgX6q1jaKPRZ"
      },
      "source": [
        "# Load training data, labels; and testing data and their true labels\n",
        "(train_images, train_labels), (test_images, test_labels) = mnist.load_data()\n",
        "\n",
        "# reshape the data into a 4D tensor - (sample_number, x_img_size, y_img_size, num_channels)\n",
        "# because the MNIST is greyscale, we only have a single channel - RGB colour images would have 3\n",
        "train_images = train_images.reshape(train_images.shape[0], img_x, img_y, 1)\n",
        "test_images  = test_images.reshape(test_images.shape[0], img_x, img_y, 1)\n",
        "input_shape = (img_x, img_y, img_z)\n",
        "\n",
        "# Normalize input between 0 and 1\n",
        "# Very important\n",
        "train_images = train_images / 255.0\n",
        "test_images = test_images / 255.0"
      ],
      "execution_count": null,
      "outputs": []
    },
    {
      "cell_type": "code",
      "metadata": {
        "id": "woHFTvT6KPRZ",
        "colab": {
          "base_uri": "https://localhost:8080/"
        },
        "outputId": "a9179799-7f82-4bf0-a81d-eb84770d0a7e"
      },
      "source": [
        "# Check shapes of train_images, train_labels etc\n",
        "print(train_images.shape)\n",
        "print(train_labels.shape)\n",
        "print(test_images.shape)\n",
        "print(test_labels.shape)"
      ],
      "execution_count": null,
      "outputs": [
        {
          "output_type": "stream",
          "name": "stdout",
          "text": [
            "(60000, 28, 28, 1)\n",
            "(60000,)\n",
            "(10000, 28, 28, 1)\n",
            "(10000,)\n"
          ]
        }
      ]
    },
    {
      "cell_type": "markdown",
      "metadata": {
        "id": "nMfp8aTiKPRZ"
      },
      "source": [
        "### Visualize the dataset"
      ]
    },
    {
      "cell_type": "code",
      "metadata": {
        "id": "tBGQjzSEKPRa"
      },
      "source": [
        "# For printing, we name each of the 10 classes below\n",
        "class_names = ['0', '1', '2', '3', '4','5', '6', '7', '8', '9']"
      ],
      "execution_count": null,
      "outputs": []
    },
    {
      "cell_type": "code",
      "metadata": {
        "id": "ygsx_6QIKPRa",
        "colab": {
          "base_uri": "https://localhost:8080/",
          "height": 589
        },
        "outputId": "45cdbf93-05dd-4dc6-e505-8a26a4a61518"
      },
      "source": [
        "import matplotlib.pyplot as plt\n",
        "%matplotlib inline\n",
        "\n",
        "plt.figure(figsize=(10,10))\n",
        "for i in range(25):\n",
        "    plt.subplot(5,5,i+1)\n",
        "    plt.xticks([])\n",
        "    plt.yticks([])\n",
        "    plt.grid(False)\n",
        "    plt.imshow(train_images[i].reshape(img_x, img_y), cmap=plt.cm.binary)\n",
        "    #print(train_labels[i][0])\n",
        "    plt.xlabel(class_names[train_labels[i]])"
      ],
      "execution_count": null,
      "outputs": [
        {
          "output_type": "display_data",
          "data": {
            "text/plain": [
              "<Figure size 720x720 with 25 Axes>"
            ],
            "image/png": "[encoded data removed]"
          },
          "metadata": {}
        }
      ]
    },
    {
      "cell_type": "markdown",
      "metadata": {
        "id": "J_5SAV3mKPRb"
      },
      "source": [
        "## (a) Create and train Lenet-5 Using Keras API on MNIST dataset **[3 points]**"
      ]
    },
    {
      "cell_type": "code",
      "metadata": {
        "id": "XcZhpREqKPRb",
        "colab": {
          "base_uri": "https://localhost:8080/"
        },
        "outputId": "1fb534a5-ad35-4b12-bb80-62d130fdcfae"
      },
      "source": [
        "'''\n",
        "Create a NN with 1 input layer\n",
        "1 conv2D layer, 6 filters, 5x5 filter size, stride = (1, 1), activation tanh, use padding='same' argument (check it on https://keras.io/api/layers/convolution_layers/convolution2d/ )\n",
        "1 AveragePooling2D layer (use default arguments in https://www.tensorflow.org/api_docs/python/tf/keras/layers/AveragePooling2D )\n",
        "1 conv2D layer, 16 Filters, 5x5 filter size, stride = (1, 1), activation tanh, padding='valid'\n",
        "1 AveragePooling2D layer (Default arguements)\n",
        "1 conv2D layer, 120 filters, 5x5 filter size, stride = (1, 1), activation tanh, padding='valid'\n",
        "Flatten layer\n",
        "1 Dense layer, 84 units, tanh activation\n",
        "1 output layer\n",
        "'''\n",
        "input_shape = train_images[0].shape\n",
        "model = tf.keras.Sequential()\n",
        "model.add(layers.InputLayer(input_shape=(28,28,1), name='Input_Layer'))\n",
        "model.add(layers.Conv2D(filters=6, kernel_size=(5,5), strides=(1,1),  activation='tanh', padding='same'))\n",
        "model.add(layers.AveragePooling2D())\n",
        "model.add(layers.Conv2D(filters=16, kernel_size=(5,5), strides=(1,1), activation='tanh', padding='valid'))\n",
        "model.add(layers.AveragePooling2D())\n",
        "model.add(layers.Conv2D(filters=120, kernel_size=(5,5), strides=(1,1), activation='tanh', padding='valid'))\n",
        "model.add(layers.Flatten())\n",
        "model.add(layers.Dense(84, activation='tanh'))\n",
        "model.add(layers.Dense(10, activation='softmax'))\n",
        "model.summary()"
      ],
      "execution_count": null,
      "outputs": [
        {
          "output_type": "stream",
          "name": "stdout",
          "text": [
            "Model: \"sequential\"\n",
            "_________________________________________________________________\n",
            " Layer (type)                Output Shape              Param #   \n",
            "=================================================================\n",
            " conv2d (Conv2D)             (None, 28, 28, 6)         156       \n",
            "                                                                 \n",
            " average_pooling2d (AverageP  (None, 14, 14, 6)        0         \n",
            " ooling2D)                                                       \n",
            "                                                                 \n",
            " conv2d_1 (Conv2D)           (None, 10, 10, 16)        2416      \n",
            "                                                                 \n",
            " average_pooling2d_1 (Averag  (None, 5, 5, 16)         0         \n",
            " ePooling2D)                                                     \n",
            "                                                                 \n",
            " conv2d_2 (Conv2D)           (None, 1, 1, 120)         48120     \n",
            "                                                                 \n",
            " flatten (Flatten)           (None, 120)               0         \n",
            "                                                                 \n",
            " dense (Dense)               (None, 84)                10164     \n",
            "                                                                 \n",
            " dense_1 (Dense)             (None, 10)                850       \n",
            "                                                                 \n",
            "=================================================================\n",
            "Total params: 61,706\n",
            "Trainable params: 61,706\n",
            "Non-trainable params: 0\n",
            "_________________________________________________________________\n"
          ]
        }
      ]
    },
    {
      "cell_type": "code",
      "metadata": {
        "id": "SR07kYvaKPRc"
      },
      "source": [
        "# Compile the model with appropriate Loss function\n",
        "model.compile(optimizer=tf.optimizers.Adam(learning_rate=0.001), \n",
        "              loss='sparse_categorical_crossentropy',\n",
        "              metrics=['accuracy'])"
      ],
      "execution_count": null,
      "outputs": []
    },
    {
      "cell_type": "code",
      "metadata": {
        "id": "lA0ZMNoRKPRc",
        "colab": {
          "base_uri": "https://localhost:8080/"
        },
        "outputId": "62a9d41c-c8ec-4dcc-fec6-def0d3c3645c"
      },
      "source": [
        "# Train the model on MNIST dataset\n",
        "epochs = 5\n",
        "batch_size = 32\n",
        "model.fit(train_images, train_labels, batch_size=batch_size, epochs=epochs)"
      ],
      "execution_count": null,
      "outputs": [
        {
          "output_type": "stream",
          "name": "stdout",
          "text": [
            "Epoch 1/5\n",
            "1875/1875 [==============================] - 20s 6ms/step - loss: 0.2293 - accuracy: 0.9312\n",
            "Epoch 2/5\n",
            "1875/1875 [==============================] - 7s 4ms/step - loss: 0.0887 - accuracy: 0.9725\n",
            "Epoch 3/5\n",
            "1875/1875 [==============================] - 8s 4ms/step - loss: 0.0613 - accuracy: 0.9811\n",
            "Epoch 4/5\n",
            "1875/1875 [==============================] - 7s 4ms/step - loss: 0.0467 - accuracy: 0.9852\n",
            "Epoch 5/5\n",
            "1875/1875 [==============================] - 8s 4ms/step - loss: 0.0386 - accuracy: 0.9877\n"
          ]
        },
        {
          "output_type": "execute_result",
          "data": {
            "text/plain": [
              "<keras.callbacks.History at 0x7fc8fc03fbe0>"
            ]
          },
          "metadata": {},
          "execution_count": 10
        }
      ]
    },
    {
      "cell_type": "markdown",
      "metadata": {
        "id": "dRUc37tjKPRc"
      },
      "source": [
        "##(b) Check Accuracy on Test Data **[0.5 point]**"
      ]
    },
    {
      "cell_type": "code",
      "metadata": {
        "id": "IYRjR1hwKPRc",
        "colab": {
          "base_uri": "https://localhost:8080/"
        },
        "outputId": "aee2ca50-b3a2-46ce-ebad-68a5a95428ad"
      },
      "source": [
        "test_loss, test_acc = model.evaluate(test_images, test_labels)"
      ],
      "execution_count": null,
      "outputs": [
        {
          "output_type": "stream",
          "name": "stdout",
          "text": [
            "313/313 [==============================] - 1s 3ms/step - loss: 0.0556 - accuracy: 0.9830\n"
          ]
        }
      ]
    },
    {
      "cell_type": "code",
      "metadata": {
        "id": "7bN93Tv1KPRd",
        "colab": {
          "base_uri": "https://localhost:8080/"
        },
        "outputId": "2975e7cb-b260-46aa-c9f8-f9cfdea90ea4"
      },
      "source": [
        "# Try to get 90% or more accuracy\n",
        "print('Test accuracy:', test_acc)"
      ],
      "execution_count": null,
      "outputs": [
        {
          "output_type": "stream",
          "name": "stdout",
          "text": [
            "Test accuracy: 0.9829999804496765\n"
          ]
        }
      ]
    },
    {
      "cell_type": "markdown",
      "metadata": {
        "id": "FOo2uV2BKPRd"
      },
      "source": [
        "### Visualize predictions on test data"
      ]
    },
    {
      "cell_type": "code",
      "metadata": {
        "id": "Q-JGn4yUKPRd",
        "colab": {
          "base_uri": "https://localhost:8080/"
        },
        "outputId": "aae2b312-b5c3-4544-8e37-580210f045bc"
      },
      "source": [
        "# Get all predictions for test data\n",
        "predictions = model.predict(test_images)"
      ],
      "execution_count": null,
      "outputs": [
        {
          "output_type": "stream",
          "name": "stdout",
          "text": [
            "313/313 [==============================] - 1s 2ms/step\n"
          ]
        }
      ]
    },
    {
      "cell_type": "code",
      "metadata": {
        "id": "VaOgmKTtKPRe",
        "colab": {
          "base_uri": "https://localhost:8080/",
          "height": 589
        },
        "outputId": "7272354e-b8bc-4849-d726-357fb4b076e5"
      },
      "source": [
        "# Code to visualize predictions\n",
        "# Incorrect predictions are highlighted in red\n",
        "plt.figure(figsize=(10,10))\n",
        "for i in range(25):\n",
        "    plt.subplot(5,5,i+1)\n",
        "    plt.xticks([])\n",
        "    plt.yticks([])\n",
        "    plt.grid(False)\n",
        "    plt.imshow(test_images[i].reshape(28, 28), cmap=plt.cm.binary)\n",
        "    predicted_label = np.argmax(predictions[i])\n",
        "    true_label = test_labels[i]\n",
        "    if predicted_label == true_label:\n",
        "      color = 'green'\n",
        "    else:\n",
        "      color = 'red'\n",
        "    plt.xlabel(\"{} ({})\".format(class_names[predicted_label], \n",
        "                                  class_names[true_label]),\n",
        "                                  color=color)"
      ],
      "execution_count": null,
      "outputs": [
        {
          "output_type": "display_data",
          "data": {
            "text/plain": [
              "<Figure size 720x720 with 25 Axes>"
            ],
            "image/png": "[encoded data removed]"
          },
          "metadata": {}
        }
      ]
    },
    {
      "cell_type": "markdown",
      "source": [
        "##(c) Download binary_alpha_digits dataset using tfds, split dataset **[1 point]**"
      ],
      "metadata": {
        "id": "lkTfnHudRixb"
      }
    },
    {
      "cell_type": "code",
      "metadata": {
        "id": "R2Sq5qMRKPRe"
      },
      "source": [
        "## write your code here\n",
        "dataset_name = \"binary_alpha_digits\"\n",
        "\n",
        "ds, ds_info = tfds.load(dataset_name, split=\"train\", with_info=True)\n",
        "\n",
        "def preprocess_example(example):\n",
        "    image = example[\"image\"]\n",
        "    label = example[\"label\"]\n",
        "    return image, label\n",
        "\n",
        "ds = ds.map(preprocess_example)\n",
        "\n",
        "ds_images = []\n",
        "ds_labels = []\n",
        "\n",
        "# Iterate over the dataset to get the images and labels\n",
        "for image, label in ds:\n",
        "    ds_images.append(image)\n",
        "    ds_labels.append(label)\n",
        "\n",
        "# Convert the lists of images and labels to numpy arrays\n",
        "ds_images = np.array(ds_images)\n",
        "ds_labels = np.array(ds_labels)"
      ],
      "execution_count": null,
      "outputs": []
    },
    {
      "cell_type": "code",
      "source": [
        "## Split dataset into 20% testing and 80% training\n",
        "from sklearn.model_selection import train_test_split\n",
        "\n",
        "test_sizes = 0.2   # fraction of test data\n",
        "train_images, test_images, train_labels, test_labels = train_test_split(ds_images, ds_labels, test_size = test_sizes, shuffle = True, random_state=42)\n",
        "\n",
        "# Check training, testing data size\n",
        "print(train_images.shape)\n",
        "print(test_images.shape)"
      ],
      "metadata": {
        "id": "X1EMLf-I3EY7",
        "colab": {
          "base_uri": "https://localhost:8080/"
        },
        "outputId": "c0f0bca5-960c-4255-d9db-a7fc79868b0f"
      },
      "execution_count": null,
      "outputs": [
        {
          "output_type": "stream",
          "name": "stdout",
          "text": [
            "(1123, 20, 16, 1)\n",
            "(281, 20, 16, 1)\n"
          ]
        }
      ]
    },
    {
      "cell_type": "markdown",
      "source": [
        "### Visualize data"
      ],
      "metadata": {
        "id": "KrWcthf3UNZd"
      }
    },
    {
      "cell_type": "code",
      "source": [
        "# Code to visualize predictions\n",
        "# Incorrect predictions are highlighted in red\n",
        "import matplotlib.pyplot as plt\n",
        "%matplotlib inline\n",
        "class_names = ['0', '1', '2', '3', '4','5', '6', '7', '8', '9', 'A', 'B', 'C', 'D', 'E', 'F', 'G', 'H', 'I', 'J', 'K', 'L', 'M', 'N', 'O', 'P', 'Q', 'R', 'S', 'T', 'U', 'V', 'W', 'X', 'Y', 'Z']\n",
        "\n",
        "plt.figure(figsize=(10,10))\n",
        "for i in range(25):\n",
        "    plt.subplot(5,5,i+1)\n",
        "    plt.xticks([])\n",
        "    plt.yticks([])\n",
        "    plt.grid(False)\n",
        "    plt.imshow(train_images[i].reshape(20, 16), cmap=plt.cm.binary)\n",
        "    plt.xlabel(class_names[train_labels[i]])"
      ],
      "metadata": {
        "id": "TORfGo084u6N",
        "colab": {
          "base_uri": "https://localhost:8080/",
          "height": 589
        },
        "outputId": "75fff0dc-f79b-4798-8809-4f14c6c0c590"
      },
      "execution_count": null,
      "outputs": [
        {
          "output_type": "display_data",
          "data": {
            "text/plain": [
              "<Figure size 720x720 with 25 Axes>"
            ],
            "image/png": "[encoded data removed]"
          },
          "metadata": {}
        }
      ]
    },
    {
      "cell_type": "markdown",
      "source": [
        "## (d) Upscale training, testing data to MNIST image size (28, 28, 1) **[2 points]**"
      ],
      "metadata": {
        "id": "Ud5K8MkmUXKW"
      }
    },
    {
      "cell_type": "code",
      "source": [
        "newSize = 28\n",
        "\n",
        "# create a numpy array for storing upscaled training images\n",
        "train_upscale = []\n",
        "for img in train_images:\n",
        "  resize = cv2.resize(img, (newSize, newSize))\n",
        "  reshape = resize.reshape(resize.shape[0], resize.shape[1], 1)\n",
        "  train_upscale.append(reshape)\n",
        "train_upscale = np.array(train_upscale)\n",
        "print(train_upscale.shape)\n",
        "\n",
        "# create a numpy array for storing upscaled testing images\n",
        "test_upscale = []\n",
        "for img in test_images:\n",
        "  resize = cv2.resize(img, (newSize, newSize))\n",
        "  reshape = resize.reshape(resize.shape[0], resize.shape[1], 1)\n",
        "  test_upscale.append(reshape)\n",
        "test_upscale = np.array(test_upscale)\n",
        "print(test_upscale.shape)\n",
        "\n",
        "# Normalize input\n",
        "# train_upscale = train_upscale / 255.0\n",
        "# test_upscale = test_upscale / 255.0"
      ],
      "metadata": {
        "id": "lQLJomQx62y1",
        "colab": {
          "base_uri": "https://localhost:8080/"
        },
        "outputId": "e018074f-4f4c-4fc5-e350-ad5416cbee56"
      },
      "execution_count": null,
      "outputs": [
        {
          "output_type": "stream",
          "name": "stdout",
          "text": [
            "(1123, 28, 28, 1)\n",
            "(281, 28, 28, 1)\n"
          ]
        }
      ]
    },
    {
      "cell_type": "code",
      "source": [
        "%matplotlib inline\n",
        "# Visualize upscaled images\n",
        "plt.figure(figsize=(10,10))\n",
        "for i in range(25):\n",
        "    plt.subplot(5,5,i+1)\n",
        "    plt.xticks([])\n",
        "    plt.yticks([])\n",
        "    plt.grid(False)\n",
        "    plt.imshow(train_upscale[i].reshape(28, 28), cmap=plt.cm.binary)\n",
        "    plt.xlabel(class_names[train_labels[i]])"
      ],
      "metadata": {
        "id": "7OojCkxz6nao",
        "colab": {
          "base_uri": "https://localhost:8080/",
          "height": 589
        },
        "outputId": "d61e32b0-d92b-4634-d1e3-ef90efe00394"
      },
      "execution_count": null,
      "outputs": [
        {
          "output_type": "display_data",
          "data": {
            "text/plain": [
              "<Figure size 720x720 with 25 Axes>"
            ],
            "image/png": "[encoded data removed]"
          },
          "metadata": {}
        }
      ]
    },
    {
      "cell_type": "markdown",
      "source": [
        "##(e) Transfer learning-- Remove Last layer from your trained LeNet **[0.5 points]**\n",
        "\n"
      ],
      "metadata": {
        "id": "0tinnqZ-VUxf"
      }
    },
    {
      "cell_type": "code",
      "source": [
        "## You can decide whether to train the whole network again or fix layer weights from the MNIST-trained network\n",
        "## Check link: https://keras.io/getting_started/faq/#how-can-i-freeze-keras-layers \n",
        "model.trainable = False\n",
        "\n",
        "## Code for removing last layer\n",
        "model.summary()\n",
        "model.pop()\n",
        "model.summary()"
      ],
      "metadata": {
        "id": "HpSLUEfQ4tX8",
        "colab": {
          "base_uri": "https://localhost:8080/"
        },
        "outputId": "96b148d1-3aa0-4bbc-d16c-54ae8e6ff0fc"
      },
      "execution_count": null,
      "outputs": [
        {
          "output_type": "stream",
          "name": "stdout",
          "text": [
            "Model: \"sequential\"\n",
            "_________________________________________________________________\n",
            " Layer (type)                Output Shape              Param #   \n",
            "=================================================================\n",
            " conv2d (Conv2D)             (None, 28, 28, 6)         156       \n",
            "                                                                 \n",
            " average_pooling2d (AverageP  (None, 14, 14, 6)        0         \n",
            " ooling2D)                                                       \n",
            "                                                                 \n",
            " conv2d_1 (Conv2D)           (None, 10, 10, 16)        2416      \n",
            "                                                                 \n",
            " average_pooling2d_1 (Averag  (None, 5, 5, 16)         0         \n",
            " ePooling2D)                                                     \n",
            "                                                                 \n",
            " conv2d_2 (Conv2D)           (None, 1, 1, 120)         48120     \n",
            "                                                                 \n",
            " flatten (Flatten)           (None, 120)               0         \n",
            "                                                                 \n",
            " dense (Dense)               (None, 84)                10164     \n",
            "                                                                 \n",
            "=================================================================\n",
            "Total params: 60,856\n",
            "Trainable params: 0\n",
            "Non-trainable params: 60,856\n",
            "_________________________________________________________________\n",
            "Model: \"sequential\"\n",
            "_________________________________________________________________\n",
            " Layer (type)                Output Shape              Param #   \n",
            "=================================================================\n",
            " conv2d (Conv2D)             (None, 28, 28, 6)         156       \n",
            "                                                                 \n",
            " average_pooling2d (AverageP  (None, 14, 14, 6)        0         \n",
            " ooling2D)                                                       \n",
            "                                                                 \n",
            " conv2d_1 (Conv2D)           (None, 10, 10, 16)        2416      \n",
            "                                                                 \n",
            " average_pooling2d_1 (Averag  (None, 5, 5, 16)         0         \n",
            " ePooling2D)                                                     \n",
            "                                                                 \n",
            " conv2d_2 (Conv2D)           (None, 1, 1, 120)         48120     \n",
            "                                                                 \n",
            " flatten (Flatten)           (None, 120)               0         \n",
            "                                                                 \n",
            "=================================================================\n",
            "Total params: 50,692\n",
            "Trainable params: 0\n",
            "Non-trainable params: 50,692\n",
            "_________________________________________________________________\n"
          ]
        }
      ]
    },
    {
      "cell_type": "code",
      "source": [
        "# Clone the model used for transfer\n",
        "model2 = keras.models.clone_model(model)\n",
        "model2.set_weights(model.get_weights())\n",
        "model2.summary()"
      ],
      "metadata": {
        "id": "xXeFTAsOaFsJ",
        "colab": {
          "base_uri": "https://localhost:8080/"
        },
        "outputId": "88d2021f-4053-4bb5-f420-c816507c3f70"
      },
      "execution_count": null,
      "outputs": [
        {
          "output_type": "stream",
          "name": "stdout",
          "text": [
            "Model: \"sequential\"\n",
            "_________________________________________________________________\n",
            " Layer (type)                Output Shape              Param #   \n",
            "=================================================================\n",
            " conv2d (Conv2D)             (None, 28, 28, 6)         156       \n",
            "                                                                 \n",
            " average_pooling2d (AverageP  (None, 14, 14, 6)        0         \n",
            " ooling2D)                                                       \n",
            "                                                                 \n",
            " conv2d_1 (Conv2D)           (None, 10, 10, 16)        2416      \n",
            "                                                                 \n",
            " average_pooling2d_1 (Averag  (None, 5, 5, 16)         0         \n",
            " ePooling2D)                                                     \n",
            "                                                                 \n",
            " conv2d_2 (Conv2D)           (None, 1, 1, 120)         48120     \n",
            "                                                                 \n",
            " flatten (Flatten)           (None, 120)               0         \n",
            "                                                                 \n",
            "=================================================================\n",
            "Total params: 50,692\n",
            "Trainable params: 0\n",
            "Non-trainable params: 50,692\n",
            "_________________________________________________________________\n"
          ]
        }
      ]
    },
    {
      "cell_type": "markdown",
      "source": [
        "##(f) Transfer learning-- Add new layers to LeNet **[1.5 points]**\n"
      ],
      "metadata": {
        "id": "hDM8SanPbxaS"
      }
    },
    {
      "cell_type": "code",
      "source": [
        "## Add one or more hidden layer\n",
        "## Add output layer\n",
        "model2.add(layers.Dense(2048, activation='relu')) \n",
        "model2.add(layers.Dense(36, activation='softmax', name='Output_Layer'))\n",
        "model2.summary()"
      ],
      "metadata": {
        "id": "qbvcHOin3Thp",
        "colab": {
          "base_uri": "https://localhost:8080/"
        },
        "outputId": "a26dc233-191a-462f-aa36-cc70b8a74b88"
      },
      "execution_count": null,
      "outputs": [
        {
          "output_type": "stream",
          "name": "stdout",
          "text": [
            "Model: \"sequential\"\n",
            "_________________________________________________________________\n",
            " Layer (type)                Output Shape              Param #   \n",
            "=================================================================\n",
            " conv2d (Conv2D)             (None, 28, 28, 6)         156       \n",
            "                                                                 \n",
            " average_pooling2d (AverageP  (None, 14, 14, 6)        0         \n",
            " ooling2D)                                                       \n",
            "                                                                 \n",
            " conv2d_1 (Conv2D)           (None, 10, 10, 16)        2416      \n",
            "                                                                 \n",
            " average_pooling2d_1 (Averag  (None, 5, 5, 16)         0         \n",
            " ePooling2D)                                                     \n",
            "                                                                 \n",
            " conv2d_2 (Conv2D)           (None, 1, 1, 120)         48120     \n",
            "                                                                 \n",
            " flatten (Flatten)           (None, 120)               0         \n",
            "                                                                 \n",
            " dense_3 (Dense)             (None, 2048)              247808    \n",
            "                                                                 \n",
            " Output_Layer (Dense)        (None, 36)                73764     \n",
            "                                                                 \n",
            "=================================================================\n",
            "Total params: 372,264\n",
            "Trainable params: 321,572\n",
            "Non-trainable params: 50,692\n",
            "_________________________________________________________________\n"
          ]
        }
      ]
    },
    {
      "cell_type": "code",
      "source": [
        "# Compile the model with appropriate Loss function\n",
        "model2.compile(optimizer=tf.optimizers.Adam(learning_rate=0.001),\n",
        "              loss='sparse_categorical_crossentropy',\n",
        "              metrics=['accuracy'])"
      ],
      "metadata": {
        "id": "CN6KYDus-xnd"
      },
      "execution_count": null,
      "outputs": []
    },
    {
      "cell_type": "code",
      "source": [
        "#verify that transferred layers are frozen\n",
        "for i, layer in enumerate(model2.layers):\n",
        "    print(\"Layer {}: {}\".format(i, \"Frozen\" if not layer.trainable else \"Trainable\"))"
      ],
      "metadata": {
        "id": "nlH9nKg9XS83",
        "colab": {
          "base_uri": "https://localhost:8080/"
        },
        "outputId": "2d06d729-1bd3-4594-e820-716f84a175e7"
      },
      "execution_count": null,
      "outputs": [
        {
          "output_type": "stream",
          "name": "stdout",
          "text": [
            "Layer 0: Frozen\n",
            "Layer 1: Frozen\n",
            "Layer 2: Frozen\n",
            "Layer 3: Frozen\n",
            "Layer 4: Frozen\n",
            "Layer 5: Frozen\n",
            "Layer 6: Trainable\n",
            "Layer 7: Trainable\n"
          ]
        }
      ]
    },
    {
      "cell_type": "markdown",
      "source": [
        "##(g) Train the model and show accuracy on the testing dataset (test_upscale) **[1.5 point]**"
      ],
      "metadata": {
        "id": "gcqiWiQVWeL6"
      }
    },
    {
      "cell_type": "code",
      "source": [
        "## Your code here\n",
        "epochs = 16\n",
        "batch_size = 4\n",
        "model2.fit(train_upscale, train_labels, batch_size=batch_size, epochs=epochs)"
      ],
      "metadata": {
        "id": "TdTRYc29_MKM",
        "colab": {
          "base_uri": "https://localhost:8080/"
        },
        "outputId": "0111f87d-c347-4e4d-d8a2-bc5b9472a537"
      },
      "execution_count": null,
      "outputs": [
        {
          "output_type": "stream",
          "name": "stdout",
          "text": [
            "Epoch 1/16\n",
            "281/281 [==============================] - 2s 5ms/step - loss: 2.3227 - accuracy: 0.3767\n",
            "Epoch 2/16\n",
            "281/281 [==============================] - 1s 3ms/step - loss: 1.0608 - accuracy: 0.6661\n",
            "Epoch 3/16\n",
            "281/281 [==============================] - 1s 3ms/step - loss: 0.6129 - accuracy: 0.8023\n",
            "Epoch 4/16\n",
            "281/281 [==============================] - 1s 3ms/step - loss: 0.3579 - accuracy: 0.8825\n",
            "Epoch 5/16\n",
            "281/281 [==============================] - 1s 3ms/step - loss: 0.2079 - accuracy: 0.9279\n",
            "Epoch 6/16\n",
            "281/281 [==============================] - 1s 3ms/step - loss: 0.1681 - accuracy: 0.9484\n",
            "Epoch 7/16\n",
            "281/281 [==============================] - 1s 3ms/step - loss: 0.1695 - accuracy: 0.9412\n",
            "Epoch 8/16\n",
            "281/281 [==============================] - 1s 3ms/step - loss: 0.1823 - accuracy: 0.9394\n",
            "Epoch 9/16\n",
            "281/281 [==============================] - 1s 3ms/step - loss: 0.1845 - accuracy: 0.9368\n",
            "Epoch 10/16\n",
            "281/281 [==============================] - 1s 3ms/step - loss: 0.2372 - accuracy: 0.9252\n",
            "Epoch 11/16\n",
            "281/281 [==============================] - 1s 3ms/step - loss: 0.5096 - accuracy: 0.8513\n",
            "Epoch 12/16\n",
            "281/281 [==============================] - 1s 3ms/step - loss: 0.3293 - accuracy: 0.9020\n",
            "Epoch 13/16\n",
            "281/281 [==============================] - 1s 4ms/step - loss: 0.1727 - accuracy: 0.9305\n",
            "Epoch 14/16\n",
            "281/281 [==============================] - 1s 4ms/step - loss: 0.1131 - accuracy: 0.9537\n",
            "Epoch 15/16\n",
            "281/281 [==============================] - 1s 3ms/step - loss: 0.0689 - accuracy: 0.9724\n",
            "Epoch 16/16\n",
            "281/281 [==============================] - 1s 3ms/step - loss: 0.0589 - accuracy: 0.9617\n"
          ]
        },
        {
          "output_type": "execute_result",
          "data": {
            "text/plain": [
              "<keras.callbacks.History at 0x7fc8eff267c0>"
            ]
          },
          "metadata": {},
          "execution_count": 38
        }
      ]
    },
    {
      "cell_type": "code",
      "source": [
        "# Check Accuracy using Test dataset\n",
        "test_loss, test_acc = model2.evaluate(test_upscale, test_labels)\n",
        "print('Test accuracy:', test_acc)"
      ],
      "metadata": {
        "id": "CTWu4CZKeH9K",
        "colab": {
          "base_uri": "https://localhost:8080/"
        },
        "outputId": "18e38c4e-b35b-4bbc-9cf5-a627a4352425"
      },
      "execution_count": null,
      "outputs": [
        {
          "output_type": "stream",
          "name": "stdout",
          "text": [
            "9/9 [==============================] - 0s 3ms/step - loss: 2.7171 - accuracy: 0.5587\n",
            "Test accuracy: 0.5587188601493835\n"
          ]
        }
      ]
    },
    {
      "cell_type": "code",
      "source": [
        "predictions = model2.predict(test_upscale)\n",
        "# Code to visualize predictions\n",
        "# Incorrect predictions are highlighted in red\n",
        "plt.figure(figsize=(10,10))\n",
        "for i in range(25):\n",
        "    plt.subplot(5,5,i+1)\n",
        "    plt.xticks([])\n",
        "    plt.yticks([])\n",
        "    plt.grid(False)\n",
        "    plt.imshow(test_upscale[i].reshape(28, 28), cmap=plt.cm.binary)\n",
        "    predicted_label = np.argmax(predictions[i])\n",
        "    true_label = test_labels[i]\n",
        "    if predicted_label == true_label:\n",
        "      color = 'green'\n",
        "    else:\n",
        "      color = 'red'\n",
        "    plt.xlabel(\"{} ({})\".format(class_names[predicted_label], \n",
        "                                  class_names[true_label]),\n",
        "                                  color=color)"
      ],
      "metadata": {
        "colab": {
          "base_uri": "https://localhost:8080/",
          "height": 606
        },
        "id": "nGNbVXG54GLF",
        "outputId": "cad6f583-5bd5-4973-eef3-fafeae01ca0c"
      },
      "execution_count": null,
      "outputs": [
        {
          "output_type": "stream",
          "name": "stdout",
          "text": [
            "9/9 [==============================] - 0s 3ms/step\n"
          ]
        },
        {
          "output_type": "display_data",
          "data": {
            "text/plain": [
              "<Figure size 720x720 with 25 Axes>"
            ],
            "image/png": "[encoded data removed]"
          },
          "metadata": {}
        }
      ]
    },
    {
      "cell_type": "code",
      "source": [],
      "metadata": {
        "id": "OydY_y0V5N35"
      },
      "execution_count": null,
      "outputs": []
    }
  ]
}