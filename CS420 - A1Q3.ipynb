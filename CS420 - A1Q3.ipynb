{
 "cells": [
  {
   "cell_type": "code",
   "execution_count": 3,
   "id": "c3fe2a5a",
   "metadata": {},
   "outputs": [
    {
     "name": "stdout",
     "output_type": "stream",
     "text": [
      "Collecting pgmpy\n",
      "  Downloading pgmpy-0.1.21-py3-none-any.whl (1.9 MB)\n",
      "Requirement already satisfied: joblib in e:\\conda\\lib\\site-packages (from pgmpy) (1.1.0)\n",
      "Requirement already satisfied: statsmodels in e:\\conda\\lib\\site-packages (from pgmpy) (0.12.2)\n",
      "Collecting torch\n",
      "  Downloading torch-1.13.1-cp39-cp39-win_amd64.whl (162.5 MB)\n",
      "Requirement already satisfied: pyparsing in e:\\conda\\lib\\site-packages (from pgmpy) (3.0.4)\n",
      "Requirement already satisfied: tqdm in e:\\conda\\lib\\site-packages (from pgmpy) (4.62.3)\n",
      "Requirement already satisfied: pandas in e:\\conda\\lib\\site-packages (from pgmpy) (1.3.4)\n",
      "Collecting opt-einsum\n",
      "  Downloading opt_einsum-3.3.0-py3-none-any.whl (65 kB)\n",
      "Requirement already satisfied: scipy in e:\\conda\\lib\\site-packages (from pgmpy) (1.7.1)\n",
      "Requirement already satisfied: networkx in e:\\conda\\lib\\site-packages (from pgmpy) (2.6.3)\n",
      "Requirement already satisfied: numpy in e:\\conda\\lib\\site-packages (from pgmpy) (1.20.3)\n",
      "Requirement already satisfied: scikit-learn in e:\\conda\\lib\\site-packages (from pgmpy) (0.24.2)\n",
      "Requirement already satisfied: pytz>=2017.3 in e:\\conda\\lib\\site-packages (from pandas->pgmpy) (2021.3)\n",
      "Requirement already satisfied: python-dateutil>=2.7.3 in e:\\conda\\lib\\site-packages (from pandas->pgmpy) (2.8.2)\n",
      "Requirement already satisfied: six>=1.5 in e:\\conda\\lib\\site-packages (from python-dateutil>=2.7.3->pandas->pgmpy) (1.16.0)\n",
      "Requirement already satisfied: threadpoolctl>=2.0.0 in e:\\conda\\lib\\site-packages (from scikit-learn->pgmpy) (2.2.0)\n",
      "Requirement already satisfied: patsy>=0.5 in e:\\conda\\lib\\site-packages (from statsmodels->pgmpy) (0.5.2)\n",
      "Requirement already satisfied: typing-extensions in e:\\conda\\lib\\site-packages (from torch->pgmpy) (3.10.0.2)\n",
      "Requirement already satisfied: colorama in e:\\conda\\lib\\site-packages (from tqdm->pgmpy) (0.4.4)\n",
      "Installing collected packages: torch, opt-einsum, pgmpy\n",
      "Successfully installed opt-einsum-3.3.0 pgmpy-0.1.21 torch-1.13.1\n",
      "Note: you may need to restart the kernel to use updated packages.\n"
     ]
    }
   ],
   "source": [
    "pip install pgmpy"
   ]
  },
  {
   "cell_type": "code",
   "execution_count": 1,
   "id": "c531c37d",
   "metadata": {},
   "outputs": [],
   "source": [
    "from pgmpy.models import BayesianModel\n",
    "from pgmpy.factors.discrete import TabularCPD\n",
    "import sys"
   ]
  },
  {
   "cell_type": "code",
   "execution_count": 4,
   "id": "9bd573b2",
   "metadata": {},
   "outputs": [],
   "source": [
    "model = BayesianModel([('F', 'R'), ('P', 'R'), ('R', 'C'), ('R', 'B'), ('A', 'C'), ('A', 'I'), ('I', 'C'), \\\n",
    "                       ('S', 'Y'), ('S', 'C')])\n",
    "\n",
    "# Enter conditional probability distribution for each variable\n",
    "# Prior probability for F\n",
    "cpd_F = TabularCPD(variable='F', variable_card=2, values=[[0.999], [0.001]])\n",
    "\n",
    "# Prior probability for P\n",
    "cpd_P = TabularCPD(variable='P', variable_card=2, values=[[0.001], [0.999]])\n",
    "\n",
    "# Prior probability for S\n",
    "cpd_S = TabularCPD(variable='S', variable_card=2, values=[[0.9], [0.1]])\n",
    "\n",
    "# Prior probability for A\n",
    "cpd_A = TabularCPD(variable='A', variable_card=2, values=[[0.9], [0.1]])\n",
    "\n",
    "# Conditional probability for P(R| F, P)\n",
    "cpd_R = TabularCPD(variable='R',variable_card=2, values = [[0.99, 0.95, 0.8, 0.7],\n",
    "                                  [0.01, 0.05, 0.2, 0.3]],\n",
    "                                  evidence = ['F', 'P'],\n",
    "                                  evidence_card=[2, 2])\n",
    "\n",
    "# Conditional probability for P(B|R)\n",
    "cpd_B = TabularCPD(variable='B', variable_card=2, values = [[0.98, 0.8],\n",
    "                                  [0.02, 0.2]],\n",
    "                                  evidence = ['R'],\n",
    "                                  evidence_card=[2])\n",
    "\n",
    "# Conditional probability for P(C|S, A, I, R)\n",
    "cpd_C = TabularCPD(variable='C', variable_card=2, values = [\n",
    "                                  [0.9, 0.5, 0.8, 0.4, 0.7, 0.4, 0.6, 0.2, 0.8, 0.4, 0.7, 0.3, 0.6, 0.3, 0.5, 0.1],\n",
    "                                  [0.1, 0.5, 0.2, 0.6, 0.3, 0.6, 0.4, 0.8, 0.2, 0.6, 0.3, 0.7, 0.4, 0.7, 0.5, 0.9]],\n",
    "                                  evidence = ['S', 'A', 'I', 'R'],\n",
    "                                  evidence_card=[2, 2, 2, 2])\n",
    "\n",
    "# Conditional probability for P(I|A)\n",
    "cpd_I = TabularCPD(variable='I',variable_card=2, values = [[0.95, 0.7],\n",
    "                                  [0.05, 0.3]],\n",
    "                                  evidence = ['A'],\n",
    "                                  evidence_card=[2])\n",
    "\n",
    "# Conditional probability for P(Y|S)\n",
    "cpd_Y = TabularCPD(variable='Y', variable_card=2, values = [[0.96, 0.05],\n",
    "                                  [0.04, 0.95]],\n",
    "                                  evidence = ['S'],\n",
    "                                  evidence_card=[2])\n",
    "\n",
    "model.add_cpds(cpd_F, cpd_P, cpd_S, cpd_A, cpd_R, cpd_B, cpd_C, cpd_I, cpd_Y)"
   ]
  },
  {
   "cell_type": "code",
   "execution_count": 5,
   "id": "26bd7981",
   "metadata": {},
   "outputs": [
    {
     "name": "stdout",
     "output_type": "stream",
     "text": [
      "True\n",
      "+------+------+------+------+------+------+------+------+------+------+------+------+------+------+------+------+------+\n",
      "| S    | S(0) | S(0) | S(0) | S(0) | S(0) | S(0) | S(0) | S(0) | S(1) | S(1) | S(1) | S(1) | S(1) | S(1) | S(1) | S(1) |\n",
      "+------+------+------+------+------+------+------+------+------+------+------+------+------+------+------+------+------+\n",
      "| A    | A(0) | A(0) | A(0) | A(0) | A(1) | A(1) | A(1) | A(1) | A(0) | A(0) | A(0) | A(0) | A(1) | A(1) | A(1) | A(1) |\n",
      "+------+------+------+------+------+------+------+------+------+------+------+------+------+------+------+------+------+\n",
      "| I    | I(0) | I(0) | I(1) | I(1) | I(0) | I(0) | I(1) | I(1) | I(0) | I(0) | I(1) | I(1) | I(0) | I(0) | I(1) | I(1) |\n",
      "+------+------+------+------+------+------+------+------+------+------+------+------+------+------+------+------+------+\n",
      "| R    | R(0) | R(1) | R(0) | R(1) | R(0) | R(1) | R(0) | R(1) | R(0) | R(1) | R(0) | R(1) | R(0) | R(1) | R(0) | R(1) |\n",
      "+------+------+------+------+------+------+------+------+------+------+------+------+------+------+------+------+------+\n",
      "| C(0) | 0.9  | 0.5  | 0.8  | 0.4  | 0.7  | 0.4  | 0.6  | 0.2  | 0.8  | 0.4  | 0.7  | 0.3  | 0.6  | 0.3  | 0.5  | 0.1  |\n",
      "+------+------+------+------+------+------+------+------+------+------+------+------+------+------+------+------+------+\n",
      "| C(1) | 0.1  | 0.5  | 0.2  | 0.6  | 0.3  | 0.6  | 0.4  | 0.8  | 0.2  | 0.6  | 0.3  | 0.7  | 0.4  | 0.7  | 0.5  | 0.9  |\n",
      "+------+------+------+------+------+------+------+------+------+------+------+------+------+------+------+------+------+\n",
      "vars: C\n"
     ]
    }
   ],
   "source": [
    "print(model.check_model())\n",
    "print(model.get_cpds('C'))\n",
    "\n",
    "cpd = model.get_cpds('C')\n",
    "print('vars:', cpd.variable)"
   ]
  },
  {
   "cell_type": "code",
   "execution_count": 6,
   "id": "05ac6b86",
   "metadata": {},
   "outputs": [
    {
     "name": "stdout",
     "output_type": "stream",
     "text": [
      "True\n",
      "+------+------+------+------+------+\n",
      "| F    | F(0) | F(0) | F(1) | F(1) |\n",
      "+------+------+------+------+------+\n",
      "| P    | P(0) | P(1) | P(0) | P(1) |\n",
      "+------+------+------+------+------+\n",
      "| R(0) | 0.99 | 0.95 | 0.8  | 0.7  |\n",
      "+------+------+------+------+------+\n",
      "| R(1) | 0.01 | 0.05 | 0.2  | 0.3  |\n",
      "+------+------+------+------+------+\n",
      "vars: R\n"
     ]
    }
   ],
   "source": [
    "print(model.check_model())\n",
    "print(model.get_cpds('R'))\n",
    "\n",
    "cpd = model.get_cpds('R')\n",
    "print('vars:', cpd.variable)"
   ]
  },
  {
   "cell_type": "code",
   "execution_count": 9,
   "id": "f4b50046",
   "metadata": {},
   "outputs": [
    {
     "name": "stdout",
     "output_type": "stream",
     "text": [
      "Probability of RADIATION given CANCER\n",
      "+------+----------+\n",
      "| R    |   phi(R) |\n",
      "+======+==========+\n",
      "| R(0) |   0.8306 |\n",
      "+------+----------+\n",
      "| R(1) |   0.1694 |\n",
      "+------+----------+\n"
     ]
    }
   ],
   "source": [
    "from pgmpy.inference import VariableElimination\n",
    "\n",
    "# Going to do variable elimination\n",
    "infer = VariableElimination(model)\n",
    "\n",
    "# Compute probability of RADIATION given CANCER\n",
    "phi_query = infer.query(['R'], evidence={'C':1}, joint = False)\n",
    "factor = phi_query['R']\n",
    "print('Probability of RADIATION given CANCER')\n",
    "print(factor)\n"
   ]
  },
  {
   "cell_type": "code",
   "execution_count": 12,
   "id": "b71c0555",
   "metadata": {},
   "outputs": [
    {
     "name": "stdout",
     "output_type": "stream",
     "text": [
      "probability of cancer given skin burn, yellow fingers and abuses alcohol\n",
      "+------+----------+\n",
      "| C    |   phi(C) |\n",
      "+======+==========+\n",
      "| C(0) |   0.4834 |\n",
      "+------+----------+\n",
      "| C(1) |   0.5166 |\n",
      "+------+----------+\n"
     ]
    }
   ],
   "source": [
    "# Compute probability of cancer given skin burn, yellow fingers and abuses alcohol.\n",
    "phi_query = infer.query(['C'], evidence={'B':1, 'Y':1, 'A':1}, joint = False)\n",
    "factor = phi_query['C']\n",
    "print('probability of cancer given skin burn, yellow fingers and abuses alcohol')\n",
    "print(factor)"
   ]
  },
  {
   "cell_type": "code",
   "execution_count": 15,
   "id": "7dfa0e04",
   "metadata": {},
   "outputs": [
    {
     "name": "stdout",
     "output_type": "stream",
     "text": [
      "Probability of Smoking given CANCER is present and skin burn is present\n",
      "+------+----------+\n",
      "| S    |   phi(S) |\n",
      "+======+==========+\n",
      "| S(0) |   0.8830 |\n",
      "+------+----------+\n",
      "| S(1) |   0.1170 |\n",
      "+------+----------+\n",
      "\n",
      "Probability of Smoking given CANCER is present and skin burn is not present\n",
      "+------+----------+\n",
      "| S    |   phi(S) |\n",
      "+======+==========+\n",
      "| S(0) |   0.8830 |\n",
      "+------+----------+\n",
      "| S(1) |   0.1170 |\n",
      "+------+----------+\n"
     ]
    }
   ],
   "source": [
    "# Compute probability of RADIATION given CANCER\n",
    "phi_query = infer.query(['S'], evidence={'C':1,'R':1, 'B':1}, joint = False)\n",
    "factor = phi_query['S']\n",
    "print('Probability of Smoking given CANCER is present and skin burn is present')\n",
    "print(factor)\n",
    "print()\n",
    "phi_query = infer.query(['S'], evidence={'C':1,'R':1, 'B':0}, joint = False)\n",
    "factor = phi_query['S']\n",
    "print('Probability of Smoking given CANCER is present and skin burn is not present')\n",
    "print(factor)\n",
    "\n"
   ]
  },
  {
   "cell_type": "code",
   "execution_count": 16,
   "id": "0aefa3b8",
   "metadata": {},
   "outputs": [
    {
     "name": "stdout",
     "output_type": "stream",
     "text": [
      "probability of cancer given never abused alochol or used a cellphone\n",
      "+------+----------+\n",
      "| C    |   phi(C) |\n",
      "+======+==========+\n",
      "| C(0) |   0.8809 |\n",
      "+------+----------+\n",
      "| C(1) |   0.1191 |\n",
      "+------+----------+\n"
     ]
    }
   ],
   "source": [
    "# Compute probability of cancer given skin burn, yellow fingers and abuses alcohol.\n",
    "phi_query = infer.query(['C'], evidence={'P':0, 'A':0}, joint = False)\n",
    "factor = phi_query['C']\n",
    "print('probability of cancer given never abused alochol or used a cellphone')\n",
    "print(factor)"
   ]
  },
  {
   "cell_type": "code",
   "execution_count": null,
   "id": "8ebbc940",
   "metadata": {},
   "outputs": [],
   "source": []
  }
 ],
 "metadata": {
  "kernelspec": {
   "display_name": "Python 3 (ipykernel)",
   "language": "python",
   "name": "python3"
  },
  "language_info": {
   "codemirror_mode": {
    "name": "ipython",
    "version": 3
   },
   "file_extension": ".py",
   "mimetype": "text/x-python",
   "name": "python",
   "nbconvert_exporter": "python",
   "pygments_lexer": "ipython3",
   "version": "3.9.7"
  }
 },
 "nbformat": 4,
 "nbformat_minor": 5
}
